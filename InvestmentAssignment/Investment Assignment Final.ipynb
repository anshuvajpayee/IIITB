{
 "cells": [
  {
   "cell_type": "code",
   "execution_count": 1,
   "metadata": {},
   "outputs": [],
   "source": [
    "# importing python libs\n",
    "import pandas as pd \n",
    "import numpy as np\n",
    "import chardet\n",
    "import seaborn as sns\n",
    "import matplotlib.pyplot as plt\n",
    "import warnings\n",
    "warnings.filterwarnings(\"ignore\")"
   ]
  },
  {
   "cell_type": "code",
   "execution_count": 2,
   "metadata": {},
   "outputs": [
    {
     "data": {
      "text/plain": [
       "{'encoding': 'utf-8', 'confidence': 0.938125, 'language': ''}"
      ]
     },
     "execution_count": 2,
     "metadata": {},
     "output_type": "execute_result"
    }
   ],
   "source": [
    "with open(\"companies.csv\",\"rb\") as rawdata:\n",
    "    result=chardet.detect(rawdata.read(20000))\n",
    "result"
   ]
  },
  {
   "cell_type": "code",
   "execution_count": 3,
   "metadata": {},
   "outputs": [
    {
     "data": {
      "text/plain": [
       "{'encoding': 'Windows-1252', 'confidence': 0.7283286589204968, 'language': ''}"
      ]
     },
     "execution_count": 3,
     "metadata": {},
     "output_type": "execute_result"
    }
   ],
   "source": [
    "with open(\"companies.csv\",\"rb\") as rawdata:\n",
    "    result=chardet.detect(rawdata.read(200000))\n",
    "result"
   ]
  },
  {
   "cell_type": "code",
   "execution_count": 4,
   "metadata": {},
   "outputs": [],
   "source": [
    "#loading companies file \n",
    "df=pd.read_csv(\"companies.csv\",encoding=\"latin1\")"
   ]
  },
  {
   "cell_type": "code",
   "execution_count": 5,
   "metadata": {
    "scrolled": true
   },
   "outputs": [
    {
     "data": {
      "text/html": [
       "<div>\n",
       "<style scoped>\n",
       "    .dataframe tbody tr th:only-of-type {\n",
       "        vertical-align: middle;\n",
       "    }\n",
       "\n",
       "    .dataframe tbody tr th {\n",
       "        vertical-align: top;\n",
       "    }\n",
       "\n",
       "    .dataframe thead th {\n",
       "        text-align: right;\n",
       "    }\n",
       "</style>\n",
       "<table border=\"1\" class=\"dataframe\">\n",
       "  <thead>\n",
       "    <tr style=\"text-align: right;\">\n",
       "      <th></th>\n",
       "      <th>permalink</th>\n",
       "      <th>name</th>\n",
       "      <th>homepage_url</th>\n",
       "      <th>category_list</th>\n",
       "      <th>status</th>\n",
       "      <th>country_code</th>\n",
       "      <th>state_code</th>\n",
       "      <th>region</th>\n",
       "      <th>city</th>\n",
       "      <th>founded_at</th>\n",
       "    </tr>\n",
       "  </thead>\n",
       "  <tbody>\n",
       "    <tr>\n",
       "      <th>0</th>\n",
       "      <td>/Organization/-Fame</td>\n",
       "      <td>#fame</td>\n",
       "      <td>http://livfame.com</td>\n",
       "      <td>Media</td>\n",
       "      <td>operating</td>\n",
       "      <td>IND</td>\n",
       "      <td>16</td>\n",
       "      <td>Mumbai</td>\n",
       "      <td>Mumbai</td>\n",
       "      <td>NaN</td>\n",
       "    </tr>\n",
       "    <tr>\n",
       "      <th>1</th>\n",
       "      <td>/Organization/-Qounter</td>\n",
       "      <td>:Qounter</td>\n",
       "      <td>http://www.qounter.com</td>\n",
       "      <td>Application Platforms|Real Time|Social Network...</td>\n",
       "      <td>operating</td>\n",
       "      <td>USA</td>\n",
       "      <td>DE</td>\n",
       "      <td>DE - Other</td>\n",
       "      <td>Delaware City</td>\n",
       "      <td>04-09-2014</td>\n",
       "    </tr>\n",
       "    <tr>\n",
       "      <th>2</th>\n",
       "      <td>/Organization/-The-One-Of-Them-Inc-</td>\n",
       "      <td>(THE) ONE of THEM,Inc.</td>\n",
       "      <td>http://oneofthem.jp</td>\n",
       "      <td>Apps|Games|Mobile</td>\n",
       "      <td>operating</td>\n",
       "      <td>NaN</td>\n",
       "      <td>NaN</td>\n",
       "      <td>NaN</td>\n",
       "      <td>NaN</td>\n",
       "      <td>NaN</td>\n",
       "    </tr>\n",
       "    <tr>\n",
       "      <th>3</th>\n",
       "      <td>/Organization/0-6-Com</td>\n",
       "      <td>0-6.com</td>\n",
       "      <td>http://www.0-6.com</td>\n",
       "      <td>Curated Web</td>\n",
       "      <td>operating</td>\n",
       "      <td>CHN</td>\n",
       "      <td>22</td>\n",
       "      <td>Beijing</td>\n",
       "      <td>Beijing</td>\n",
       "      <td>01-01-2007</td>\n",
       "    </tr>\n",
       "    <tr>\n",
       "      <th>4</th>\n",
       "      <td>/Organization/004-Technologies</td>\n",
       "      <td>004 Technologies</td>\n",
       "      <td>http://004gmbh.de/en/004-interact</td>\n",
       "      <td>Software</td>\n",
       "      <td>operating</td>\n",
       "      <td>USA</td>\n",
       "      <td>IL</td>\n",
       "      <td>Springfield, Illinois</td>\n",
       "      <td>Champaign</td>\n",
       "      <td>01-01-2010</td>\n",
       "    </tr>\n",
       "    <tr>\n",
       "      <th>...</th>\n",
       "      <td>...</td>\n",
       "      <td>...</td>\n",
       "      <td>...</td>\n",
       "      <td>...</td>\n",
       "      <td>...</td>\n",
       "      <td>...</td>\n",
       "      <td>...</td>\n",
       "      <td>...</td>\n",
       "      <td>...</td>\n",
       "      <td>...</td>\n",
       "    </tr>\n",
       "    <tr>\n",
       "      <th>66363</th>\n",
       "      <td>/Organization/Zznode-Science-And-Technology-Co...</td>\n",
       "      <td>ZZNode Science and Technology</td>\n",
       "      <td>http://www.zznode.com</td>\n",
       "      <td>Enterprise Software</td>\n",
       "      <td>operating</td>\n",
       "      <td>CHN</td>\n",
       "      <td>22</td>\n",
       "      <td>Beijing</td>\n",
       "      <td>Beijing</td>\n",
       "      <td>NaN</td>\n",
       "    </tr>\n",
       "    <tr>\n",
       "      <th>66364</th>\n",
       "      <td>/Organization/Zzzzapp-Com</td>\n",
       "      <td>Zzzzapp Wireless ltd.</td>\n",
       "      <td>http://www.zzzzapp.com</td>\n",
       "      <td>Advertising|Mobile|Web Development|Wireless</td>\n",
       "      <td>operating</td>\n",
       "      <td>HRV</td>\n",
       "      <td>15</td>\n",
       "      <td>Split</td>\n",
       "      <td>Split</td>\n",
       "      <td>13-05-2012</td>\n",
       "    </tr>\n",
       "    <tr>\n",
       "      <th>66365</th>\n",
       "      <td>/Organization/ÃEron</td>\n",
       "      <td>ÃERON</td>\n",
       "      <td>http://www.aeron.hu/</td>\n",
       "      <td>NaN</td>\n",
       "      <td>operating</td>\n",
       "      <td>NaN</td>\n",
       "      <td>NaN</td>\n",
       "      <td>NaN</td>\n",
       "      <td>NaN</td>\n",
       "      <td>01-01-2011</td>\n",
       "    </tr>\n",
       "    <tr>\n",
       "      <th>66366</th>\n",
       "      <td>/Organization/ÃAsys-2</td>\n",
       "      <td>Ãasys</td>\n",
       "      <td>http://www.oasys.io/</td>\n",
       "      <td>Consumer Electronics|Internet of Things|Teleco...</td>\n",
       "      <td>operating</td>\n",
       "      <td>USA</td>\n",
       "      <td>CA</td>\n",
       "      <td>SF Bay Area</td>\n",
       "      <td>San Francisco</td>\n",
       "      <td>01-01-2014</td>\n",
       "    </tr>\n",
       "    <tr>\n",
       "      <th>66367</th>\n",
       "      <td>/Organization/Ä°Novatiff-Reklam-Ve-Tanä±Tä±M-H...</td>\n",
       "      <td>Ä°novatiff Reklam ve TanÄ±tÄ±m Hizmetleri Tic</td>\n",
       "      <td>http://inovatiff.com</td>\n",
       "      <td>Consumer Goods|E-Commerce|Internet</td>\n",
       "      <td>operating</td>\n",
       "      <td>NaN</td>\n",
       "      <td>NaN</td>\n",
       "      <td>NaN</td>\n",
       "      <td>NaN</td>\n",
       "      <td>NaN</td>\n",
       "    </tr>\n",
       "  </tbody>\n",
       "</table>\n",
       "<p>66368 rows × 10 columns</p>\n",
       "</div>"
      ],
      "text/plain": [
       "                                               permalink  \\\n",
       "0                                    /Organization/-Fame   \n",
       "1                                 /Organization/-Qounter   \n",
       "2                    /Organization/-The-One-Of-Them-Inc-   \n",
       "3                                  /Organization/0-6-Com   \n",
       "4                         /Organization/004-Technologies   \n",
       "...                                                  ...   \n",
       "66363  /Organization/Zznode-Science-And-Technology-Co...   \n",
       "66364                          /Organization/Zzzzapp-Com   \n",
       "66365                               /Organization/ÃEron   \n",
       "66366                             /Organization/ÃAsys-2   \n",
       "66367  /Organization/Ä°Novatiff-Reklam-Ve-Tanä±Tä±M-H...   \n",
       "\n",
       "                                                name  \\\n",
       "0                                              #fame   \n",
       "1                                           :Qounter   \n",
       "2                             (THE) ONE of THEM,Inc.   \n",
       "3                                            0-6.com   \n",
       "4                                   004 Technologies   \n",
       "...                                              ...   \n",
       "66363                  ZZNode Science and Technology   \n",
       "66364                          Zzzzapp Wireless ltd.   \n",
       "66365                                         ÃERON   \n",
       "66366                                         Ãasys   \n",
       "66367  Ä°novatiff Reklam ve TanÄ±tÄ±m Hizmetleri Tic   \n",
       "\n",
       "                            homepage_url  \\\n",
       "0                     http://livfame.com   \n",
       "1                 http://www.qounter.com   \n",
       "2                    http://oneofthem.jp   \n",
       "3                     http://www.0-6.com   \n",
       "4      http://004gmbh.de/en/004-interact   \n",
       "...                                  ...   \n",
       "66363              http://www.zznode.com   \n",
       "66364             http://www.zzzzapp.com   \n",
       "66365               http://www.aeron.hu/   \n",
       "66366               http://www.oasys.io/   \n",
       "66367               http://inovatiff.com   \n",
       "\n",
       "                                           category_list     status  \\\n",
       "0                                                  Media  operating   \n",
       "1      Application Platforms|Real Time|Social Network...  operating   \n",
       "2                                      Apps|Games|Mobile  operating   \n",
       "3                                            Curated Web  operating   \n",
       "4                                               Software  operating   \n",
       "...                                                  ...        ...   \n",
       "66363                                Enterprise Software  operating   \n",
       "66364        Advertising|Mobile|Web Development|Wireless  operating   \n",
       "66365                                                NaN  operating   \n",
       "66366  Consumer Electronics|Internet of Things|Teleco...  operating   \n",
       "66367                 Consumer Goods|E-Commerce|Internet  operating   \n",
       "\n",
       "      country_code state_code                 region           city  \\\n",
       "0              IND         16                 Mumbai         Mumbai   \n",
       "1              USA         DE             DE - Other  Delaware City   \n",
       "2              NaN        NaN                    NaN            NaN   \n",
       "3              CHN         22                Beijing        Beijing   \n",
       "4              USA         IL  Springfield, Illinois      Champaign   \n",
       "...            ...        ...                    ...            ...   \n",
       "66363          CHN         22                Beijing        Beijing   \n",
       "66364          HRV         15                  Split          Split   \n",
       "66365          NaN        NaN                    NaN            NaN   \n",
       "66366          USA         CA            SF Bay Area  San Francisco   \n",
       "66367          NaN        NaN                    NaN            NaN   \n",
       "\n",
       "       founded_at  \n",
       "0             NaN  \n",
       "1      04-09-2014  \n",
       "2             NaN  \n",
       "3      01-01-2007  \n",
       "4      01-01-2010  \n",
       "...           ...  \n",
       "66363         NaN  \n",
       "66364  13-05-2012  \n",
       "66365  01-01-2011  \n",
       "66366  01-01-2014  \n",
       "66367         NaN  \n",
       "\n",
       "[66368 rows x 10 columns]"
      ]
     },
     "execution_count": 5,
     "metadata": {},
     "output_type": "execute_result"
    }
   ],
   "source": [
    "df"
   ]
  },
  {
   "cell_type": "markdown",
   "metadata": {},
   "source": [
    "- There are Total 10 cols and 66383 rows in companies tables "
   ]
  },
  {
   "cell_type": "code",
   "execution_count": 6,
   "metadata": {},
   "outputs": [],
   "source": [
    "#loading round2 file \n",
    "df1=pd.read_csv(\"rounds2.csv\",encoding=\"latin1\")"
   ]
  },
  {
   "cell_type": "code",
   "execution_count": 7,
   "metadata": {},
   "outputs": [
    {
     "data": {
      "text/html": [
       "<div>\n",
       "<style scoped>\n",
       "    .dataframe tbody tr th:only-of-type {\n",
       "        vertical-align: middle;\n",
       "    }\n",
       "\n",
       "    .dataframe tbody tr th {\n",
       "        vertical-align: top;\n",
       "    }\n",
       "\n",
       "    .dataframe thead th {\n",
       "        text-align: right;\n",
       "    }\n",
       "</style>\n",
       "<table border=\"1\" class=\"dataframe\">\n",
       "  <thead>\n",
       "    <tr style=\"text-align: right;\">\n",
       "      <th></th>\n",
       "      <th>company_permalink</th>\n",
       "      <th>funding_round_permalink</th>\n",
       "      <th>funding_round_type</th>\n",
       "      <th>funding_round_code</th>\n",
       "      <th>funded_at</th>\n",
       "      <th>raised_amount_usd</th>\n",
       "    </tr>\n",
       "  </thead>\n",
       "  <tbody>\n",
       "    <tr>\n",
       "      <th>0</th>\n",
       "      <td>/organization/-fame</td>\n",
       "      <td>/funding-round/9a01d05418af9f794eebff7ace91f638</td>\n",
       "      <td>venture</td>\n",
       "      <td>B</td>\n",
       "      <td>05-01-2015</td>\n",
       "      <td>10000000.0</td>\n",
       "    </tr>\n",
       "    <tr>\n",
       "      <th>1</th>\n",
       "      <td>/ORGANIZATION/-QOUNTER</td>\n",
       "      <td>/funding-round/22dacff496eb7acb2b901dec1dfe5633</td>\n",
       "      <td>venture</td>\n",
       "      <td>A</td>\n",
       "      <td>14-10-2014</td>\n",
       "      <td>NaN</td>\n",
       "    </tr>\n",
       "    <tr>\n",
       "      <th>2</th>\n",
       "      <td>/organization/-qounter</td>\n",
       "      <td>/funding-round/b44fbb94153f6cdef13083530bb48030</td>\n",
       "      <td>seed</td>\n",
       "      <td>NaN</td>\n",
       "      <td>01-03-2014</td>\n",
       "      <td>700000.0</td>\n",
       "    </tr>\n",
       "    <tr>\n",
       "      <th>3</th>\n",
       "      <td>/ORGANIZATION/-THE-ONE-OF-THEM-INC-</td>\n",
       "      <td>/funding-round/650b8f704416801069bb178a1418776b</td>\n",
       "      <td>venture</td>\n",
       "      <td>B</td>\n",
       "      <td>30-01-2014</td>\n",
       "      <td>3406878.0</td>\n",
       "    </tr>\n",
       "    <tr>\n",
       "      <th>4</th>\n",
       "      <td>/organization/0-6-com</td>\n",
       "      <td>/funding-round/5727accaeaa57461bd22a9bdd945382d</td>\n",
       "      <td>venture</td>\n",
       "      <td>A</td>\n",
       "      <td>19-03-2008</td>\n",
       "      <td>2000000.0</td>\n",
       "    </tr>\n",
       "    <tr>\n",
       "      <th>...</th>\n",
       "      <td>...</td>\n",
       "      <td>...</td>\n",
       "      <td>...</td>\n",
       "      <td>...</td>\n",
       "      <td>...</td>\n",
       "      <td>...</td>\n",
       "    </tr>\n",
       "    <tr>\n",
       "      <th>114944</th>\n",
       "      <td>/organization/zzzzapp-com</td>\n",
       "      <td>/funding-round/8f6d25b8ee4199e586484d817bceda05</td>\n",
       "      <td>convertible_note</td>\n",
       "      <td>NaN</td>\n",
       "      <td>01-03-2014</td>\n",
       "      <td>41313.0</td>\n",
       "    </tr>\n",
       "    <tr>\n",
       "      <th>114945</th>\n",
       "      <td>/ORGANIZATION/ZZZZAPP-COM</td>\n",
       "      <td>/funding-round/ff1aa06ed5da186c84f101549035d4ae</td>\n",
       "      <td>seed</td>\n",
       "      <td>NaN</td>\n",
       "      <td>01-05-2013</td>\n",
       "      <td>32842.0</td>\n",
       "    </tr>\n",
       "    <tr>\n",
       "      <th>114946</th>\n",
       "      <td>/organization/ãeron</td>\n",
       "      <td>/funding-round/59f4dce44723b794f21ded3daed6e4fe</td>\n",
       "      <td>venture</td>\n",
       "      <td>A</td>\n",
       "      <td>01-08-2014</td>\n",
       "      <td>NaN</td>\n",
       "    </tr>\n",
       "    <tr>\n",
       "      <th>114947</th>\n",
       "      <td>/ORGANIZATION/ÃASYS-2</td>\n",
       "      <td>/funding-round/35f09d0794651719b02bbfd859ba9ff5</td>\n",
       "      <td>seed</td>\n",
       "      <td>NaN</td>\n",
       "      <td>01-01-2015</td>\n",
       "      <td>18192.0</td>\n",
       "    </tr>\n",
       "    <tr>\n",
       "      <th>114948</th>\n",
       "      <td>/organization/ä°novatiff-reklam-ve-tanä±tä±m-h...</td>\n",
       "      <td>/funding-round/af942869878d2cd788ef5189b435ebc4</td>\n",
       "      <td>grant</td>\n",
       "      <td>NaN</td>\n",
       "      <td>01-10-2013</td>\n",
       "      <td>14851.0</td>\n",
       "    </tr>\n",
       "  </tbody>\n",
       "</table>\n",
       "<p>114949 rows × 6 columns</p>\n",
       "</div>"
      ],
      "text/plain": [
       "                                        company_permalink  \\\n",
       "0                                     /organization/-fame   \n",
       "1                                  /ORGANIZATION/-QOUNTER   \n",
       "2                                  /organization/-qounter   \n",
       "3                     /ORGANIZATION/-THE-ONE-OF-THEM-INC-   \n",
       "4                                   /organization/0-6-com   \n",
       "...                                                   ...   \n",
       "114944                          /organization/zzzzapp-com   \n",
       "114945                          /ORGANIZATION/ZZZZAPP-COM   \n",
       "114946                               /organization/ãeron   \n",
       "114947                             /ORGANIZATION/ÃASYS-2   \n",
       "114948  /organization/ä°novatiff-reklam-ve-tanä±tä±m-h...   \n",
       "\n",
       "                                funding_round_permalink funding_round_type  \\\n",
       "0       /funding-round/9a01d05418af9f794eebff7ace91f638            venture   \n",
       "1       /funding-round/22dacff496eb7acb2b901dec1dfe5633            venture   \n",
       "2       /funding-round/b44fbb94153f6cdef13083530bb48030               seed   \n",
       "3       /funding-round/650b8f704416801069bb178a1418776b            venture   \n",
       "4       /funding-round/5727accaeaa57461bd22a9bdd945382d            venture   \n",
       "...                                                 ...                ...   \n",
       "114944  /funding-round/8f6d25b8ee4199e586484d817bceda05   convertible_note   \n",
       "114945  /funding-round/ff1aa06ed5da186c84f101549035d4ae               seed   \n",
       "114946  /funding-round/59f4dce44723b794f21ded3daed6e4fe            venture   \n",
       "114947  /funding-round/35f09d0794651719b02bbfd859ba9ff5               seed   \n",
       "114948  /funding-round/af942869878d2cd788ef5189b435ebc4              grant   \n",
       "\n",
       "       funding_round_code   funded_at  raised_amount_usd  \n",
       "0                       B  05-01-2015         10000000.0  \n",
       "1                       A  14-10-2014                NaN  \n",
       "2                     NaN  01-03-2014           700000.0  \n",
       "3                       B  30-01-2014          3406878.0  \n",
       "4                       A  19-03-2008          2000000.0  \n",
       "...                   ...         ...                ...  \n",
       "114944                NaN  01-03-2014            41313.0  \n",
       "114945                NaN  01-05-2013            32842.0  \n",
       "114946                  A  01-08-2014                NaN  \n",
       "114947                NaN  01-01-2015            18192.0  \n",
       "114948                NaN  01-10-2013            14851.0  \n",
       "\n",
       "[114949 rows x 6 columns]"
      ]
     },
     "execution_count": 7,
     "metadata": {},
     "output_type": "execute_result"
    }
   ],
   "source": [
    "df1"
   ]
  },
  {
   "cell_type": "markdown",
   "metadata": {},
   "source": [
    "- There are total 114949 rows and 6 cols in rounds table.\n",
    "- Total number of rows in rounds2 are more than  companies tables. It means one company gone for multiple rounds of investment. "
   ]
  },
  {
   "cell_type": "code",
   "execution_count": 8,
   "metadata": {},
   "outputs": [],
   "source": [
    "## Analysing the companies  dataframe"
   ]
  },
  {
   "cell_type": "code",
   "execution_count": 9,
   "metadata": {},
   "outputs": [
    {
     "name": "stdout",
     "output_type": "stream",
     "text": [
      "<class 'pandas.core.frame.DataFrame'>\n",
      "RangeIndex: 66368 entries, 0 to 66367\n",
      "Data columns (total 10 columns):\n",
      " #   Column         Non-Null Count  Dtype \n",
      "---  ------         --------------  ----- \n",
      " 0   permalink      66368 non-null  object\n",
      " 1   name           66367 non-null  object\n",
      " 2   homepage_url   61310 non-null  object\n",
      " 3   category_list  63220 non-null  object\n",
      " 4   status         66368 non-null  object\n",
      " 5   country_code   59410 non-null  object\n",
      " 6   state_code     57821 non-null  object\n",
      " 7   region         58338 non-null  object\n",
      " 8   city           58340 non-null  object\n",
      " 9   founded_at     51147 non-null  object\n",
      "dtypes: object(10)\n",
      "memory usage: 5.1+ MB\n"
     ]
    }
   ],
   "source": [
    "### Checking data type of columns  and name\n",
    "df.info()"
   ]
  },
  {
   "cell_type": "markdown",
   "metadata": {},
   "source": [
    "- There are total 10 columns . All are objects type. \n",
    "- looks like except few, all  has missing values. "
   ]
  },
  {
   "cell_type": "code",
   "execution_count": 10,
   "metadata": {},
   "outputs": [
    {
     "data": {
      "text/plain": [
       "permalink            0\n",
       "name                 1\n",
       "homepage_url      5058\n",
       "category_list     3148\n",
       "status               0\n",
       "country_code      6958\n",
       "state_code        8547\n",
       "region            8030\n",
       "city              8028\n",
       "founded_at       15221\n",
       "dtype: int64"
      ]
     },
     "execution_count": 10,
     "metadata": {},
     "output_type": "execute_result"
    }
   ],
   "source": [
    "# Checking for count of null/missing  values in each column.\n",
    "df.isna().sum()"
   ]
  },
  {
   "cell_type": "markdown",
   "metadata": {},
   "source": [
    "- permalibk and status dont have missing values \n",
    "- rest all columns have missing values "
   ]
  },
  {
   "cell_type": "code",
   "execution_count": 11,
   "metadata": {},
   "outputs": [],
   "source": [
    "## Analysing the rounds2  dataframe"
   ]
  },
  {
   "cell_type": "code",
   "execution_count": 12,
   "metadata": {},
   "outputs": [
    {
     "name": "stdout",
     "output_type": "stream",
     "text": [
      "<class 'pandas.core.frame.DataFrame'>\n",
      "RangeIndex: 114949 entries, 0 to 114948\n",
      "Data columns (total 6 columns):\n",
      " #   Column                   Non-Null Count   Dtype  \n",
      "---  ------                   --------------   -----  \n",
      " 0   company_permalink        114949 non-null  object \n",
      " 1   funding_round_permalink  114949 non-null  object \n",
      " 2   funding_round_type       114949 non-null  object \n",
      " 3   funding_round_code       31140 non-null   object \n",
      " 4   funded_at                114949 non-null  object \n",
      " 5   raised_amount_usd        94959 non-null   float64\n",
      "dtypes: float64(1), object(5)\n",
      "memory usage: 5.3+ MB\n"
     ]
    }
   ],
   "source": [
    "df1.info()"
   ]
  },
  {
   "cell_type": "markdown",
   "metadata": {},
   "source": [
    "- There are total 6 cols  with 1 float and 5 object types \n",
    "- There are missing values in three cols : funding_round_code,funded_at and raised_amount_usd "
   ]
  },
  {
   "cell_type": "code",
   "execution_count": 13,
   "metadata": {},
   "outputs": [
    {
     "data": {
      "text/plain": [
       "company_permalink              0\n",
       "funding_round_permalink        0\n",
       "funding_round_type             0\n",
       "funding_round_code         83809\n",
       "funded_at                      0\n",
       "raised_amount_usd          19990\n",
       "dtype: int64"
      ]
     },
     "execution_count": 13,
     "metadata": {},
     "output_type": "execute_result"
    }
   ],
   "source": [
    "# Checking for count of null/missing  values in each column.\n",
    "df1.isna().sum()"
   ]
  },
  {
   "cell_type": "markdown",
   "metadata": {},
   "source": [
    "## Checkpoint 1 "
   ]
  },
  {
   "cell_type": "code",
   "execution_count": 14,
   "metadata": {},
   "outputs": [
    {
     "data": {
      "text/html": [
       "<div>\n",
       "<style scoped>\n",
       "    .dataframe tbody tr th:only-of-type {\n",
       "        vertical-align: middle;\n",
       "    }\n",
       "\n",
       "    .dataframe tbody tr th {\n",
       "        vertical-align: top;\n",
       "    }\n",
       "\n",
       "    .dataframe thead th {\n",
       "        text-align: right;\n",
       "    }\n",
       "</style>\n",
       "<table border=\"1\" class=\"dataframe\">\n",
       "  <thead>\n",
       "    <tr style=\"text-align: right;\">\n",
       "      <th></th>\n",
       "      <th>permalink</th>\n",
       "      <th>name</th>\n",
       "      <th>homepage_url</th>\n",
       "      <th>category_list</th>\n",
       "      <th>status</th>\n",
       "      <th>country_code</th>\n",
       "      <th>state_code</th>\n",
       "      <th>region</th>\n",
       "      <th>city</th>\n",
       "      <th>founded_at</th>\n",
       "    </tr>\n",
       "  </thead>\n",
       "  <tbody>\n",
       "    <tr>\n",
       "      <th>count</th>\n",
       "      <td>66368</td>\n",
       "      <td>66367</td>\n",
       "      <td>61310</td>\n",
       "      <td>63220</td>\n",
       "      <td>66368</td>\n",
       "      <td>59410</td>\n",
       "      <td>57821</td>\n",
       "      <td>58338</td>\n",
       "      <td>58340</td>\n",
       "      <td>51147</td>\n",
       "    </tr>\n",
       "    <tr>\n",
       "      <th>unique</th>\n",
       "      <td>66368</td>\n",
       "      <td>66099</td>\n",
       "      <td>61191</td>\n",
       "      <td>27296</td>\n",
       "      <td>4</td>\n",
       "      <td>137</td>\n",
       "      <td>311</td>\n",
       "      <td>1092</td>\n",
       "      <td>5111</td>\n",
       "      <td>3978</td>\n",
       "    </tr>\n",
       "    <tr>\n",
       "      <th>top</th>\n",
       "      <td>/Organization/Appington</td>\n",
       "      <td>Spire</td>\n",
       "      <td>http://www.askforoffer.com</td>\n",
       "      <td>Software</td>\n",
       "      <td>operating</td>\n",
       "      <td>USA</td>\n",
       "      <td>CA</td>\n",
       "      <td>SF Bay Area</td>\n",
       "      <td>San Francisco</td>\n",
       "      <td>01-01-2012</td>\n",
       "    </tr>\n",
       "    <tr>\n",
       "      <th>freq</th>\n",
       "      <td>1</td>\n",
       "      <td>4</td>\n",
       "      <td>5</td>\n",
       "      <td>3995</td>\n",
       "      <td>53034</td>\n",
       "      <td>37601</td>\n",
       "      <td>12900</td>\n",
       "      <td>8804</td>\n",
       "      <td>3526</td>\n",
       "      <td>2730</td>\n",
       "    </tr>\n",
       "  </tbody>\n",
       "</table>\n",
       "</div>"
      ],
      "text/plain": [
       "                      permalink   name                homepage_url  \\\n",
       "count                     66368  66367                       61310   \n",
       "unique                    66368  66099                       61191   \n",
       "top     /Organization/Appington  Spire  http://www.askforoffer.com   \n",
       "freq                          1      4                           5   \n",
       "\n",
       "       category_list     status country_code state_code       region  \\\n",
       "count          63220      66368        59410      57821        58338   \n",
       "unique         27296          4          137        311         1092   \n",
       "top         Software  operating          USA         CA  SF Bay Area   \n",
       "freq            3995      53034        37601      12900         8804   \n",
       "\n",
       "                 city  founded_at  \n",
       "count           58340       51147  \n",
       "unique           5111        3978  \n",
       "top     San Francisco  01-01-2012  \n",
       "freq             3526        2730  "
      ]
     },
     "execution_count": 14,
     "metadata": {},
     "output_type": "execute_result"
    }
   ],
   "source": [
    "## checking details of each  cols of companies dataframe\n",
    "df.describe(include=\"all\")"
   ]
  },
  {
   "cell_type": "markdown",
   "metadata": {},
   "source": [
    "- As per description permalink provide unique  id of companies.  \n",
    "- permalink has 66368 unique count  with  frequncy 1\n",
    "- So there are 66368 unique companies  in companies dataframe. \n"
   ]
  },
  {
   "cell_type": "code",
   "execution_count": 15,
   "metadata": {},
   "outputs": [],
   "source": [
    "df1[\"company_permalink\"]=df1[\"company_permalink\"].apply(lambda x: x.lower())\n",
    "df[\"permalink\"]=df[\"permalink\"].apply(lambda x: x.lower())"
   ]
  },
  {
   "cell_type": "code",
   "execution_count": 16,
   "metadata": {},
   "outputs": [
    {
     "data": {
      "text/plain": [
       "66368"
      ]
     },
     "execution_count": 16,
     "metadata": {},
     "output_type": "execute_result"
    }
   ],
   "source": [
    "## Unique  values in company_permalink column \n",
    "len(df[\"permalink\"].unique())"
   ]
  },
  {
   "cell_type": "code",
   "execution_count": 17,
   "metadata": {},
   "outputs": [
    {
     "data": {
      "text/html": [
       "<div>\n",
       "<style scoped>\n",
       "    .dataframe tbody tr th:only-of-type {\n",
       "        vertical-align: middle;\n",
       "    }\n",
       "\n",
       "    .dataframe tbody tr th {\n",
       "        vertical-align: top;\n",
       "    }\n",
       "\n",
       "    .dataframe thead th {\n",
       "        text-align: right;\n",
       "    }\n",
       "</style>\n",
       "<table border=\"1\" class=\"dataframe\">\n",
       "  <thead>\n",
       "    <tr style=\"text-align: right;\">\n",
       "      <th></th>\n",
       "      <th>company_permalink</th>\n",
       "      <th>funding_round_permalink</th>\n",
       "      <th>funding_round_type</th>\n",
       "      <th>funding_round_code</th>\n",
       "      <th>funded_at</th>\n",
       "      <th>raised_amount_usd</th>\n",
       "    </tr>\n",
       "  </thead>\n",
       "  <tbody>\n",
       "    <tr>\n",
       "      <th>count</th>\n",
       "      <td>114949</td>\n",
       "      <td>114949</td>\n",
       "      <td>114949</td>\n",
       "      <td>31140</td>\n",
       "      <td>114949</td>\n",
       "      <td>9.495900e+04</td>\n",
       "    </tr>\n",
       "    <tr>\n",
       "      <th>unique</th>\n",
       "      <td>66370</td>\n",
       "      <td>114949</td>\n",
       "      <td>14</td>\n",
       "      <td>8</td>\n",
       "      <td>5033</td>\n",
       "      <td>NaN</td>\n",
       "    </tr>\n",
       "    <tr>\n",
       "      <th>top</th>\n",
       "      <td>/organization/solarflare</td>\n",
       "      <td>/funding-round/fb67edfabf2ccba305eaac9787ec3bdc</td>\n",
       "      <td>venture</td>\n",
       "      <td>A</td>\n",
       "      <td>01-01-2014</td>\n",
       "      <td>NaN</td>\n",
       "    </tr>\n",
       "    <tr>\n",
       "      <th>freq</th>\n",
       "      <td>19</td>\n",
       "      <td>1</td>\n",
       "      <td>55494</td>\n",
       "      <td>14747</td>\n",
       "      <td>779</td>\n",
       "      <td>NaN</td>\n",
       "    </tr>\n",
       "    <tr>\n",
       "      <th>mean</th>\n",
       "      <td>NaN</td>\n",
       "      <td>NaN</td>\n",
       "      <td>NaN</td>\n",
       "      <td>NaN</td>\n",
       "      <td>NaN</td>\n",
       "      <td>1.042687e+07</td>\n",
       "    </tr>\n",
       "    <tr>\n",
       "      <th>std</th>\n",
       "      <td>NaN</td>\n",
       "      <td>NaN</td>\n",
       "      <td>NaN</td>\n",
       "      <td>NaN</td>\n",
       "      <td>NaN</td>\n",
       "      <td>1.148212e+08</td>\n",
       "    </tr>\n",
       "    <tr>\n",
       "      <th>min</th>\n",
       "      <td>NaN</td>\n",
       "      <td>NaN</td>\n",
       "      <td>NaN</td>\n",
       "      <td>NaN</td>\n",
       "      <td>NaN</td>\n",
       "      <td>0.000000e+00</td>\n",
       "    </tr>\n",
       "    <tr>\n",
       "      <th>25%</th>\n",
       "      <td>NaN</td>\n",
       "      <td>NaN</td>\n",
       "      <td>NaN</td>\n",
       "      <td>NaN</td>\n",
       "      <td>NaN</td>\n",
       "      <td>3.225000e+05</td>\n",
       "    </tr>\n",
       "    <tr>\n",
       "      <th>50%</th>\n",
       "      <td>NaN</td>\n",
       "      <td>NaN</td>\n",
       "      <td>NaN</td>\n",
       "      <td>NaN</td>\n",
       "      <td>NaN</td>\n",
       "      <td>1.680511e+06</td>\n",
       "    </tr>\n",
       "    <tr>\n",
       "      <th>75%</th>\n",
       "      <td>NaN</td>\n",
       "      <td>NaN</td>\n",
       "      <td>NaN</td>\n",
       "      <td>NaN</td>\n",
       "      <td>NaN</td>\n",
       "      <td>7.000000e+06</td>\n",
       "    </tr>\n",
       "    <tr>\n",
       "      <th>max</th>\n",
       "      <td>NaN</td>\n",
       "      <td>NaN</td>\n",
       "      <td>NaN</td>\n",
       "      <td>NaN</td>\n",
       "      <td>NaN</td>\n",
       "      <td>2.127194e+10</td>\n",
       "    </tr>\n",
       "  </tbody>\n",
       "</table>\n",
       "</div>"
      ],
      "text/plain": [
       "               company_permalink  \\\n",
       "count                     114949   \n",
       "unique                     66370   \n",
       "top     /organization/solarflare   \n",
       "freq                          19   \n",
       "mean                         NaN   \n",
       "std                          NaN   \n",
       "min                          NaN   \n",
       "25%                          NaN   \n",
       "50%                          NaN   \n",
       "75%                          NaN   \n",
       "max                          NaN   \n",
       "\n",
       "                                funding_round_permalink funding_round_type  \\\n",
       "count                                            114949             114949   \n",
       "unique                                           114949                 14   \n",
       "top     /funding-round/fb67edfabf2ccba305eaac9787ec3bdc            venture   \n",
       "freq                                                  1              55494   \n",
       "mean                                                NaN                NaN   \n",
       "std                                                 NaN                NaN   \n",
       "min                                                 NaN                NaN   \n",
       "25%                                                 NaN                NaN   \n",
       "50%                                                 NaN                NaN   \n",
       "75%                                                 NaN                NaN   \n",
       "max                                                 NaN                NaN   \n",
       "\n",
       "       funding_round_code   funded_at  raised_amount_usd  \n",
       "count               31140      114949       9.495900e+04  \n",
       "unique                  8        5033                NaN  \n",
       "top                     A  01-01-2014                NaN  \n",
       "freq                14747         779                NaN  \n",
       "mean                  NaN         NaN       1.042687e+07  \n",
       "std                   NaN         NaN       1.148212e+08  \n",
       "min                   NaN         NaN       0.000000e+00  \n",
       "25%                   NaN         NaN       3.225000e+05  \n",
       "50%                   NaN         NaN       1.680511e+06  \n",
       "75%                   NaN         NaN       7.000000e+06  \n",
       "max                   NaN         NaN       2.127194e+10  "
      ]
     },
     "execution_count": 17,
     "metadata": {},
     "output_type": "execute_result"
    }
   ],
   "source": [
    "## checking details of each  cols of rounds2 dataframe\n",
    "df1.describe(include=\"all\")\n"
   ]
  },
  {
   "cell_type": "markdown",
   "metadata": {},
   "source": [
    "- As  per description rounds2 table has unique company_permalink as unique ID for companies\n",
    "- company_permalink has 66370  unique  values."
   ]
  },
  {
   "cell_type": "code",
   "execution_count": 18,
   "metadata": {},
   "outputs": [
    {
     "data": {
      "text/plain": [
       "66370"
      ]
     },
     "execution_count": 18,
     "metadata": {},
     "output_type": "execute_result"
    }
   ],
   "source": [
    "## Unique  values in company_permalink column \n",
    "len(df1.company_permalink.unique())"
   ]
  },
  {
   "cell_type": "code",
   "execution_count": 19,
   "metadata": {},
   "outputs": [],
   "source": [
    "## Merging both  the data frame with using inner join and storing back in master_frame\n",
    "master_frame=pd.merge(df,df1,how=\"inner\",left_on=\"permalink\",right_on=\"company_permalink\")"
   ]
  },
  {
   "cell_type": "code",
   "execution_count": 20,
   "metadata": {},
   "outputs": [
    {
     "data": {
      "text/plain": [
       "(114942, 16)"
      ]
     },
     "execution_count": 20,
     "metadata": {},
     "output_type": "execute_result"
    }
   ],
   "source": [
    "## checking count of master_frame \n",
    "master_frame.shape"
   ]
  },
  {
   "cell_type": "code",
   "execution_count": 21,
   "metadata": {},
   "outputs": [
    {
     "data": {
      "text/plain": [
       "permalink                      0\n",
       "name                           1\n",
       "homepage_url                6132\n",
       "category_list               3407\n",
       "status                         0\n",
       "country_code                8671\n",
       "state_code                 10939\n",
       "region                     10160\n",
       "city                       10157\n",
       "founded_at                 20520\n",
       "company_permalink              0\n",
       "funding_round_permalink        0\n",
       "funding_round_type             0\n",
       "funding_round_code         83803\n",
       "funded_at                      0\n",
       "raised_amount_usd          19984\n",
       "dtype: int64"
      ]
     },
     "execution_count": 21,
     "metadata": {},
     "output_type": "execute_result"
    }
   ],
   "source": [
    "master_frame.isnull().sum()"
   ]
  },
  {
   "cell_type": "markdown",
   "metadata": {},
   "source": [
    "- master_frame has missing values in various colums "
   ]
  },
  {
   "cell_type": "markdown",
   "metadata": {},
   "source": [
    "### Data cleaning of master_frame"
   ]
  },
  {
   "cell_type": "code",
   "execution_count": 22,
   "metadata": {},
   "outputs": [],
   "source": [
    "## As per intial description and analysis of problem , look like  only 7 are important columns from companies dataframe\n",
    "## Dropping extra columns of companies table in master_frame \n",
    "master_frame.drop([\"region\",\"city\",\"founded_at\"],inplace=True,axis=1)"
   ]
  },
  {
   "cell_type": "code",
   "execution_count": 23,
   "metadata": {},
   "outputs": [
    {
     "data": {
      "text/plain": [
       "permalink                      0\n",
       "name                           1\n",
       "homepage_url                6132\n",
       "category_list               3407\n",
       "status                         0\n",
       "country_code                8671\n",
       "state_code                 10939\n",
       "company_permalink              0\n",
       "funding_round_permalink        0\n",
       "funding_round_type             0\n",
       "funding_round_code         83803\n",
       "funded_at                      0\n",
       "raised_amount_usd          19984\n",
       "dtype: int64"
      ]
     },
     "execution_count": 23,
     "metadata": {},
     "output_type": "execute_result"
    }
   ],
   "source": [
    "master_frame.isna().sum()"
   ]
  },
  {
   "cell_type": "code",
   "execution_count": 24,
   "metadata": {},
   "outputs": [],
   "source": [
    "## Company and company_permalink both coloums are same so dropping company_permalink column \n",
    "master_frame.drop(\"company_permalink\",inplace=True,axis=1)"
   ]
  },
  {
   "cell_type": "code",
   "execution_count": 25,
   "metadata": {},
   "outputs": [
    {
     "data": {
      "text/plain": [
       "permalink                      0\n",
       "name                           1\n",
       "homepage_url                6132\n",
       "category_list               3407\n",
       "status                         0\n",
       "country_code                8671\n",
       "state_code                 10939\n",
       "funding_round_permalink        0\n",
       "funding_round_type             0\n",
       "funding_round_code         83803\n",
       "funded_at                      0\n",
       "raised_amount_usd          19984\n",
       "dtype: int64"
      ]
     },
     "execution_count": 25,
     "metadata": {},
     "output_type": "execute_result"
    }
   ],
   "source": [
    "master_frame.isna().sum()"
   ]
  },
  {
   "cell_type": "code",
   "execution_count": 26,
   "metadata": {},
   "outputs": [
    {
     "data": {
      "text/html": [
       "<div>\n",
       "<style scoped>\n",
       "    .dataframe tbody tr th:only-of-type {\n",
       "        vertical-align: middle;\n",
       "    }\n",
       "\n",
       "    .dataframe tbody tr th {\n",
       "        vertical-align: top;\n",
       "    }\n",
       "\n",
       "    .dataframe thead th {\n",
       "        text-align: right;\n",
       "    }\n",
       "</style>\n",
       "<table border=\"1\" class=\"dataframe\">\n",
       "  <thead>\n",
       "    <tr style=\"text-align: right;\">\n",
       "      <th></th>\n",
       "      <th>permalink</th>\n",
       "      <th>name</th>\n",
       "      <th>homepage_url</th>\n",
       "      <th>category_list</th>\n",
       "      <th>status</th>\n",
       "      <th>country_code</th>\n",
       "      <th>state_code</th>\n",
       "      <th>funding_round_permalink</th>\n",
       "      <th>funding_round_type</th>\n",
       "      <th>funding_round_code</th>\n",
       "      <th>funded_at</th>\n",
       "      <th>raised_amount_usd</th>\n",
       "    </tr>\n",
       "  </thead>\n",
       "  <tbody>\n",
       "    <tr>\n",
       "      <th>98688</th>\n",
       "      <td>/organization/tell-it-in</td>\n",
       "      <td>NaN</td>\n",
       "      <td>http://tellitin10.com</td>\n",
       "      <td>Startups</td>\n",
       "      <td>closed</td>\n",
       "      <td>USA</td>\n",
       "      <td>OR</td>\n",
       "      <td>/funding-round/9c987e616755a78c51a4aa67c27a2a93</td>\n",
       "      <td>seed</td>\n",
       "      <td>NaN</td>\n",
       "      <td>01-03-2012</td>\n",
       "      <td>25000.0</td>\n",
       "    </tr>\n",
       "  </tbody>\n",
       "</table>\n",
       "</div>"
      ],
      "text/plain": [
       "                      permalink name           homepage_url category_list  \\\n",
       "98688  /organization/tell-it-in  NaN  http://tellitin10.com      Startups   \n",
       "\n",
       "       status country_code state_code  \\\n",
       "98688  closed          USA         OR   \n",
       "\n",
       "                               funding_round_permalink funding_round_type  \\\n",
       "98688  /funding-round/9c987e616755a78c51a4aa67c27a2a93               seed   \n",
       "\n",
       "      funding_round_code   funded_at  raised_amount_usd  \n",
       "98688                NaN  01-03-2012            25000.0  "
      ]
     },
     "execution_count": 26,
     "metadata": {},
     "output_type": "execute_result"
    }
   ],
   "source": [
    "## checking name colum in master_frame\n",
    "master_frame[master_frame[\"name\"].isna()]"
   ]
  },
  {
   "cell_type": "markdown",
   "metadata": {},
   "source": [
    "- All the columns name are present in this record  except company name  and funding round code "
   ]
  },
  {
   "cell_type": "code",
   "execution_count": 27,
   "metadata": {},
   "outputs": [
    {
     "data": {
      "text/html": [
       "<div>\n",
       "<style scoped>\n",
       "    .dataframe tbody tr th:only-of-type {\n",
       "        vertical-align: middle;\n",
       "    }\n",
       "\n",
       "    .dataframe tbody tr th {\n",
       "        vertical-align: top;\n",
       "    }\n",
       "\n",
       "    .dataframe thead th {\n",
       "        text-align: right;\n",
       "    }\n",
       "</style>\n",
       "<table border=\"1\" class=\"dataframe\">\n",
       "  <thead>\n",
       "    <tr style=\"text-align: right;\">\n",
       "      <th></th>\n",
       "      <th>name</th>\n",
       "      <th>homepage_url</th>\n",
       "      <th>permalink</th>\n",
       "    </tr>\n",
       "  </thead>\n",
       "  <tbody>\n",
       "    <tr>\n",
       "      <th>0</th>\n",
       "      <td>#fame</td>\n",
       "      <td>http://livfame.com</td>\n",
       "      <td>/organization/-fame</td>\n",
       "    </tr>\n",
       "    <tr>\n",
       "      <th>1</th>\n",
       "      <td>:Qounter</td>\n",
       "      <td>http://www.qounter.com</td>\n",
       "      <td>/organization/-qounter</td>\n",
       "    </tr>\n",
       "    <tr>\n",
       "      <th>2</th>\n",
       "      <td>:Qounter</td>\n",
       "      <td>http://www.qounter.com</td>\n",
       "      <td>/organization/-qounter</td>\n",
       "    </tr>\n",
       "    <tr>\n",
       "      <th>3</th>\n",
       "      <td>(THE) ONE of THEM,Inc.</td>\n",
       "      <td>http://oneofthem.jp</td>\n",
       "      <td>/organization/-the-one-of-them-inc-</td>\n",
       "    </tr>\n",
       "    <tr>\n",
       "      <th>4</th>\n",
       "      <td>0-6.com</td>\n",
       "      <td>http://www.0-6.com</td>\n",
       "      <td>/organization/0-6-com</td>\n",
       "    </tr>\n",
       "    <tr>\n",
       "      <th>...</th>\n",
       "      <td>...</td>\n",
       "      <td>...</td>\n",
       "      <td>...</td>\n",
       "    </tr>\n",
       "    <tr>\n",
       "      <th>114937</th>\n",
       "      <td>Zzzzapp Wireless ltd.</td>\n",
       "      <td>http://www.zzzzapp.com</td>\n",
       "      <td>/organization/zzzzapp-com</td>\n",
       "    </tr>\n",
       "    <tr>\n",
       "      <th>114938</th>\n",
       "      <td>Zzzzapp Wireless ltd.</td>\n",
       "      <td>http://www.zzzzapp.com</td>\n",
       "      <td>/organization/zzzzapp-com</td>\n",
       "    </tr>\n",
       "    <tr>\n",
       "      <th>114939</th>\n",
       "      <td>ÃERON</td>\n",
       "      <td>http://www.aeron.hu/</td>\n",
       "      <td>/organization/ãeron</td>\n",
       "    </tr>\n",
       "    <tr>\n",
       "      <th>114940</th>\n",
       "      <td>Ãasys</td>\n",
       "      <td>http://www.oasys.io/</td>\n",
       "      <td>/organization/ãasys-2</td>\n",
       "    </tr>\n",
       "    <tr>\n",
       "      <th>114941</th>\n",
       "      <td>Ä°novatiff Reklam ve TanÄ±tÄ±m Hizmetleri Tic</td>\n",
       "      <td>http://inovatiff.com</td>\n",
       "      <td>/organization/ä°novatiff-reklam-ve-tanä±tä±m-h...</td>\n",
       "    </tr>\n",
       "  </tbody>\n",
       "</table>\n",
       "<p>114942 rows × 3 columns</p>\n",
       "</div>"
      ],
      "text/plain": [
       "                                                 name            homepage_url  \\\n",
       "0                                               #fame      http://livfame.com   \n",
       "1                                            :Qounter  http://www.qounter.com   \n",
       "2                                            :Qounter  http://www.qounter.com   \n",
       "3                              (THE) ONE of THEM,Inc.     http://oneofthem.jp   \n",
       "4                                             0-6.com      http://www.0-6.com   \n",
       "...                                               ...                     ...   \n",
       "114937                          Zzzzapp Wireless ltd.  http://www.zzzzapp.com   \n",
       "114938                          Zzzzapp Wireless ltd.  http://www.zzzzapp.com   \n",
       "114939                                         ÃERON    http://www.aeron.hu/   \n",
       "114940                                         Ãasys    http://www.oasys.io/   \n",
       "114941  Ä°novatiff Reklam ve TanÄ±tÄ±m Hizmetleri Tic    http://inovatiff.com   \n",
       "\n",
       "                                                permalink  \n",
       "0                                     /organization/-fame  \n",
       "1                                  /organization/-qounter  \n",
       "2                                  /organization/-qounter  \n",
       "3                     /organization/-the-one-of-them-inc-  \n",
       "4                                   /organization/0-6-com  \n",
       "...                                                   ...  \n",
       "114937                          /organization/zzzzapp-com  \n",
       "114938                          /organization/zzzzapp-com  \n",
       "114939                               /organization/ãeron  \n",
       "114940                             /organization/ãasys-2  \n",
       "114941  /organization/ä°novatiff-reklam-ve-tanä±tä±m-h...  \n",
       "\n",
       "[114942 rows x 3 columns]"
      ]
     },
     "execution_count": 27,
     "metadata": {},
     "output_type": "execute_result"
    }
   ],
   "source": [
    "master_frame[[\"name\",\"homepage_url\",\"permalink\"]]"
   ]
  },
  {
   "cell_type": "code",
   "execution_count": 28,
   "metadata": {},
   "outputs": [],
   "source": [
    "## Lookslike we can extract company name from URL \n",
    "master_frame.loc[master_frame[\"name\"].isna(),\"name\"]=\"tellitin\"\n",
    "## It was only one record thats reason I did it manually "
   ]
  },
  {
   "cell_type": "code",
   "execution_count": 29,
   "metadata": {},
   "outputs": [
    {
     "data": {
      "text/plain": [
       "permalink                      0\n",
       "name                           0\n",
       "homepage_url                6132\n",
       "category_list               3407\n",
       "status                         0\n",
       "country_code                8671\n",
       "state_code                 10939\n",
       "funding_round_permalink        0\n",
       "funding_round_type             0\n",
       "funding_round_code         83803\n",
       "funded_at                      0\n",
       "raised_amount_usd          19984\n",
       "dtype: int64"
      ]
     },
     "execution_count": 29,
     "metadata": {},
     "output_type": "execute_result"
    }
   ],
   "source": [
    "master_frame.isna().sum()"
   ]
  },
  {
   "cell_type": "code",
   "execution_count": 30,
   "metadata": {},
   "outputs": [
    {
     "data": {
      "text/plain": [
       "seed                     30406\n",
       "venture                  24509\n",
       "debt_financing            6891\n",
       "angel                     6075\n",
       "undisclosed               4889\n",
       "equity_crowdfunding       3257\n",
       "private_equity            2281\n",
       "grant                     2200\n",
       "convertible_note          1812\n",
       "post_ipo_equity            636\n",
       "product_crowdfunding       410\n",
       "non_equity_assistance      191\n",
       "post_ipo_debt              152\n",
       "secondary_market            94\n",
       "Name: funding_round_type, dtype: int64"
      ]
     },
     "execution_count": 30,
     "metadata": {},
     "output_type": "execute_result"
    }
   ],
   "source": [
    "## Analysising fundixng round code and type cols \n",
    "master_frame[master_frame[\"funding_round_code\"].isna()][\"funding_round_type\"].value_counts()"
   ]
  },
  {
   "cell_type": "code",
   "execution_count": 31,
   "metadata": {},
   "outputs": [
    {
     "data": {
      "text/plain": [
       "venture             30984\n",
       "seed                  112\n",
       "angel                  19\n",
       "undisclosed             8\n",
       "convertible_note        5\n",
       "private_equity          4\n",
       "debt_financing          4\n",
       "post_ipo_equity         2\n",
       "secondary_market        1\n",
       "Name: funding_round_type, dtype: int64"
      ]
     },
     "execution_count": 31,
     "metadata": {},
     "output_type": "execute_result"
    }
   ],
   "source": [
    "master_frame[~master_frame[\"funding_round_code\"].isna()][\"funding_round_type\"].value_counts()"
   ]
  },
  {
   "cell_type": "code",
   "execution_count": 32,
   "metadata": {},
   "outputs": [
    {
     "data": {
      "text/plain": [
       "A    14746\n",
       "B     8713\n",
       "C     4476\n",
       "D     2025\n",
       "E      811\n",
       "F      283\n",
       "G       73\n",
       "H       12\n",
       "Name: funding_round_code, dtype: int64"
      ]
     },
     "execution_count": 32,
     "metadata": {},
     "output_type": "execute_result"
    }
   ],
   "source": [
    "master_frame[\"funding_round_code\"].value_counts()"
   ]
  },
  {
   "cell_type": "code",
   "execution_count": 33,
   "metadata": {},
   "outputs": [],
   "source": [
    "### there are 83803 missing values in funding_round_code columns.  \n",
    "### these are more than 50% data of master_frame, so we can drop these values \n",
    "### I will rather perfer to impute the value with NA  where we dont have values. \n",
    "### later decide if the coloum in really helpful or not for our analysis. \n",
    "master_frame.loc[master_frame[\"funding_round_code\"].isna(),\"funding_round_code\"]=\"NA\""
   ]
  },
  {
   "cell_type": "code",
   "execution_count": 34,
   "metadata": {},
   "outputs": [
    {
     "data": {
      "text/plain": [
       "NA    83803\n",
       "A     14746\n",
       "B      8713\n",
       "C      4476\n",
       "D      2025\n",
       "E       811\n",
       "F       283\n",
       "G        73\n",
       "H        12\n",
       "Name: funding_round_code, dtype: int64"
      ]
     },
     "execution_count": 34,
     "metadata": {},
     "output_type": "execute_result"
    }
   ],
   "source": [
    "master_frame[\"funding_round_code\"].value_counts()"
   ]
  },
  {
   "cell_type": "code",
   "execution_count": 35,
   "metadata": {},
   "outputs": [
    {
     "data": {
      "text/plain": [
       "permalink                      0\n",
       "name                           0\n",
       "homepage_url                6132\n",
       "category_list               3407\n",
       "status                         0\n",
       "country_code                8671\n",
       "state_code                 10939\n",
       "funding_round_permalink        0\n",
       "funding_round_type             0\n",
       "funding_round_code             0\n",
       "funded_at                      0\n",
       "raised_amount_usd          19984\n",
       "dtype: int64"
      ]
     },
     "execution_count": 35,
     "metadata": {},
     "output_type": "execute_result"
    }
   ],
   "source": [
    "master_frame.isna().sum()"
   ]
  },
  {
   "cell_type": "code",
   "execution_count": 36,
   "metadata": {},
   "outputs": [
    {
     "data": {
      "text/plain": [
       "Series([], Name: state_code, dtype: int64)"
      ]
     },
     "execution_count": 36,
     "metadata": {},
     "output_type": "execute_result"
    }
   ],
   "source": [
    "##Analysing country code and state code \n",
    "master_frame[master_frame[\"country_code\"].isna()][\"state_code\"].value_counts()"
   ]
  },
  {
   "cell_type": "markdown",
   "metadata": {},
   "source": [
    "- Wherever country code is null, state code is also null. \n",
    "- it means we can not derive missing country code from  state code "
   ]
  },
  {
   "cell_type": "code",
   "execution_count": 37,
   "metadata": {},
   "outputs": [
    {
     "data": {
      "text/plain": [
       "SGP    721\n",
       "HKG    305\n",
       "CHN    219\n",
       "GBR    142\n",
       "ISR    130\n",
       "      ... \n",
       "CYP      1\n",
       "MOZ      1\n",
       "PSE      1\n",
       "BLM      1\n",
       "TAN      1\n",
       "Name: country_code, Length: 81, dtype: int64"
      ]
     },
     "execution_count": 37,
     "metadata": {},
     "output_type": "execute_result"
    }
   ],
   "source": [
    "master_frame[master_frame[\"state_code\"].isna()][\"country_code\"].value_counts()"
   ]
  },
  {
   "cell_type": "markdown",
   "metadata": {},
   "source": [
    "- But wherever state code is null, country code is not necessary  null. \n",
    "- We can derive missing state code from  country code atleast for citystate country like Singapore, Vatican City etc"
   ]
  },
  {
   "cell_type": "code",
   "execution_count": 38,
   "metadata": {},
   "outputs": [],
   "source": [
    "## Dropping rows where we have missing country name. Also it is less than 1% records of master_frame\n",
    "master_frame=master_frame[~master_frame[\"country_code\"].isna()]"
   ]
  },
  {
   "cell_type": "code",
   "execution_count": 39,
   "metadata": {},
   "outputs": [
    {
     "data": {
      "text/plain": [
       "permalink                      0\n",
       "name                           0\n",
       "homepage_url                4552\n",
       "category_list               1739\n",
       "status                         0\n",
       "country_code                   0\n",
       "state_code                  2268\n",
       "funding_round_permalink        0\n",
       "funding_round_type             0\n",
       "funding_round_code             0\n",
       "funded_at                      0\n",
       "raised_amount_usd          17163\n",
       "dtype: int64"
      ]
     },
     "execution_count": 39,
     "metadata": {},
     "output_type": "execute_result"
    }
   ],
   "source": [
    "master_frame.isna().sum()"
   ]
  },
  {
   "cell_type": "code",
   "execution_count": 40,
   "metadata": {},
   "outputs": [
    {
     "data": {
      "text/plain": [
       "SGP    721\n",
       "HKG    305\n",
       "CHN    219\n",
       "GBR    142\n",
       "ISR    130\n",
       "      ... \n",
       "MOZ      1\n",
       "NGA      1\n",
       "LKA      1\n",
       "PSE      1\n",
       "GGY      1\n",
       "Name: country_code, Length: 81, dtype: int64"
      ]
     },
     "execution_count": 40,
     "metadata": {},
     "output_type": "execute_result"
    }
   ],
   "source": [
    "master_frame[master_frame[\"state_code\"].isna()][\"country_code\"].value_counts()"
   ]
  },
  {
   "cell_type": "markdown",
   "metadata": {},
   "source": [
    "- we can easily fill the state code from countries like HKG ( Hongkong) and SGP(Singapore) "
   ]
  },
  {
   "cell_type": "code",
   "execution_count": 41,
   "metadata": {},
   "outputs": [
    {
     "data": {
      "text/plain": [
       "Series([], Name: state_code, dtype: int64)"
      ]
     },
     "execution_count": 41,
     "metadata": {},
     "output_type": "execute_result"
    }
   ],
   "source": [
    "## checking if there is already state code is defined for SGP and HKG \n",
    "master_frame[master_frame[\"country_code\"]==\"SGP\"][\"state_code\"].value_counts()"
   ]
  },
  {
   "cell_type": "code",
   "execution_count": 42,
   "metadata": {},
   "outputs": [
    {
     "data": {
      "text/plain": [
       "Series([], Name: state_code, dtype: int64)"
      ]
     },
     "execution_count": 42,
     "metadata": {},
     "output_type": "execute_result"
    }
   ],
   "source": [
    "master_frame[master_frame[\"country_code\"]==\"HKG\"][\"state_code\"].value_counts()"
   ]
  },
  {
   "cell_type": "code",
   "execution_count": 43,
   "metadata": {},
   "outputs": [
    {
     "data": {
      "text/plain": [
       "Series([], Name: state_code, dtype: int64)"
      ]
     },
     "execution_count": 43,
     "metadata": {},
     "output_type": "execute_result"
    }
   ],
   "source": [
    "master_frame[master_frame[\"state_code\"]==\"SGP\"][\"state_code\"].value_counts()"
   ]
  },
  {
   "cell_type": "code",
   "execution_count": 44,
   "metadata": {},
   "outputs": [
    {
     "data": {
      "text/plain": [
       "Series([], Name: state_code, dtype: int64)"
      ]
     },
     "execution_count": 44,
     "metadata": {},
     "output_type": "execute_result"
    }
   ],
   "source": [
    "master_frame[master_frame[\"state_code\"]==\"HKG\"][\"state_code\"].value_counts()"
   ]
  },
  {
   "cell_type": "code",
   "execution_count": 45,
   "metadata": {},
   "outputs": [],
   "source": [
    "## No state code defined imputing the state code for SGP and HKG \n",
    "master_frame.loc[master_frame[\"country_code\"]==\"SGP\",\"state_code\"]=\"SGP\"\n",
    "master_frame.loc[master_frame[\"country_code\"]==\"HKG\",\"state_code\"]=\"HKG\""
   ]
  },
  {
   "cell_type": "code",
   "execution_count": 46,
   "metadata": {},
   "outputs": [
    {
     "data": {
      "text/plain": [
       "permalink                      0\n",
       "name                           0\n",
       "homepage_url                4552\n",
       "category_list               1739\n",
       "status                         0\n",
       "country_code                   0\n",
       "state_code                  1242\n",
       "funding_round_permalink        0\n",
       "funding_round_type             0\n",
       "funding_round_code             0\n",
       "funded_at                      0\n",
       "raised_amount_usd          17163\n",
       "dtype: int64"
      ]
     },
     "execution_count": 46,
     "metadata": {},
     "output_type": "execute_result"
    }
   ],
   "source": [
    "master_frame.isna().sum()"
   ]
  },
  {
   "cell_type": "code",
   "execution_count": 47,
   "metadata": {},
   "outputs": [
    {
     "data": {
      "text/plain": [
       "(106271, 12)"
      ]
     },
     "execution_count": 47,
     "metadata": {},
     "output_type": "execute_result"
    }
   ],
   "source": [
    "master_frame.shape"
   ]
  },
  {
   "cell_type": "code",
   "execution_count": 48,
   "metadata": {},
   "outputs": [],
   "source": [
    "##imputing other state code as \"NA\" and later decide if we need to drop it \n",
    "master_frame.loc[master_frame[\"state_code\"].isna(),\"state_code\"]=\"NA\""
   ]
  },
  {
   "cell_type": "code",
   "execution_count": 49,
   "metadata": {},
   "outputs": [
    {
     "data": {
      "text/plain": [
       "permalink                      0\n",
       "name                           0\n",
       "homepage_url                4552\n",
       "category_list               1739\n",
       "status                         0\n",
       "country_code                   0\n",
       "state_code                     0\n",
       "funding_round_permalink        0\n",
       "funding_round_type             0\n",
       "funding_round_code             0\n",
       "funded_at                      0\n",
       "raised_amount_usd          17163\n",
       "dtype: int64"
      ]
     },
     "execution_count": 49,
     "metadata": {},
     "output_type": "execute_result"
    }
   ],
   "source": [
    "master_frame.isna().sum()"
   ]
  },
  {
   "cell_type": "code",
   "execution_count": 50,
   "metadata": {},
   "outputs": [],
   "source": [
    "## there are 17K missing records in raised amount usd column "
   ]
  },
  {
   "cell_type": "code",
   "execution_count": 51,
   "metadata": {},
   "outputs": [
    {
     "data": {
      "text/plain": [
       "venture                  52619\n",
       "seed                     26867\n",
       "debt_financing            6738\n",
       "angel                     5479\n",
       "undisclosed               4297\n",
       "equity_crowdfunding       3118\n",
       "private_equity            2111\n",
       "grant                     2042\n",
       "convertible_note          1650\n",
       "post_ipo_equity            611\n",
       "product_crowdfunding       353\n",
       "post_ipo_debt              151\n",
       "non_equity_assistance      145\n",
       "secondary_market            90\n",
       "Name: funding_round_type, dtype: int64"
      ]
     },
     "execution_count": 51,
     "metadata": {},
     "output_type": "execute_result"
    }
   ],
   "source": [
    "## Total types of rounds and value counts \n",
    "master_frame[\"funding_round_type\"].value_counts()"
   ]
  },
  {
   "cell_type": "code",
   "execution_count": 52,
   "metadata": {},
   "outputs": [
    {
     "data": {
      "text/plain": [
       "count          48111.000000\n",
       "mean        11735779.935192\n",
       "std         87951087.863253\n",
       "min                0.000000\n",
       "25%          1603911.500000\n",
       "50%          5000000.000000\n",
       "75%         12000000.000000\n",
       "max      17600000000.000000\n",
       "Name: raised_amount_usd, dtype: object"
      ]
     },
     "execution_count": 52,
     "metadata": {},
     "output_type": "execute_result"
    }
   ],
   "source": [
    "## funding pattern with venture round \n",
    "master_frame[master_frame[\"funding_round_type\"]==\"venture\"][\"raised_amount_usd\"].describe().apply(lambda x: format(x, 'f'))"
   ]
  },
  {
   "cell_type": "code",
   "execution_count": 53,
   "metadata": {},
   "outputs": [
    {
     "data": {
      "text/plain": [
       "count        21233.000000\n",
       "mean        748104.498187\n",
       "std        2283104.303950\n",
       "min              0.000000\n",
       "25%          68525.000000\n",
       "50%         300000.000000\n",
       "75%        1000000.000000\n",
       "max      200000000.000000\n",
       "Name: raised_amount_usd, dtype: object"
      ]
     },
     "execution_count": 53,
     "metadata": {},
     "output_type": "execute_result"
    }
   ],
   "source": [
    "## funding pattern with seed round \n",
    "master_frame[master_frame[\"funding_round_type\"]==\"seed\"][\"raised_amount_usd\"].describe().apply(lambda x: format(x, 'f'))"
   ]
  },
  {
   "cell_type": "markdown",
   "metadata": {},
   "source": [
    "- clearly there are  outlier in above data. \n",
    "- Trying to impute the value with median of each funding round type "
   ]
  },
  {
   "cell_type": "code",
   "execution_count": 54,
   "metadata": {},
   "outputs": [
    {
     "data": {
      "text/html": [
       "<div>\n",
       "<style scoped>\n",
       "    .dataframe tbody tr th:only-of-type {\n",
       "        vertical-align: middle;\n",
       "    }\n",
       "\n",
       "    .dataframe tbody tr th {\n",
       "        vertical-align: top;\n",
       "    }\n",
       "\n",
       "    .dataframe thead th {\n",
       "        text-align: right;\n",
       "    }\n",
       "</style>\n",
       "<table border=\"1\" class=\"dataframe\">\n",
       "  <thead>\n",
       "    <tr style=\"text-align: right;\">\n",
       "      <th></th>\n",
       "      <th>raised_amount_usd</th>\n",
       "    </tr>\n",
       "    <tr>\n",
       "      <th>funding_round_type</th>\n",
       "      <th></th>\n",
       "    </tr>\n",
       "  </thead>\n",
       "  <tbody>\n",
       "    <tr>\n",
       "      <th>angel</th>\n",
       "      <td>410737.0</td>\n",
       "    </tr>\n",
       "    <tr>\n",
       "      <th>convertible_note</th>\n",
       "      <td>300000.0</td>\n",
       "    </tr>\n",
       "    <tr>\n",
       "      <th>debt_financing</th>\n",
       "      <td>1100000.0</td>\n",
       "    </tr>\n",
       "    <tr>\n",
       "      <th>equity_crowdfunding</th>\n",
       "      <td>81156.0</td>\n",
       "    </tr>\n",
       "    <tr>\n",
       "      <th>grant</th>\n",
       "      <td>229846.0</td>\n",
       "    </tr>\n",
       "    <tr>\n",
       "      <th>non_equity_assistance</th>\n",
       "      <td>60000.0</td>\n",
       "    </tr>\n",
       "    <tr>\n",
       "      <th>post_ipo_debt</th>\n",
       "      <td>19900000.0</td>\n",
       "    </tr>\n",
       "    <tr>\n",
       "      <th>post_ipo_equity</th>\n",
       "      <td>12225705.0</td>\n",
       "    </tr>\n",
       "    <tr>\n",
       "      <th>private_equity</th>\n",
       "      <td>20000000.0</td>\n",
       "    </tr>\n",
       "    <tr>\n",
       "      <th>product_crowdfunding</th>\n",
       "      <td>221198.5</td>\n",
       "    </tr>\n",
       "    <tr>\n",
       "      <th>secondary_market</th>\n",
       "      <td>40000000.0</td>\n",
       "    </tr>\n",
       "    <tr>\n",
       "      <th>seed</th>\n",
       "      <td>300000.0</td>\n",
       "    </tr>\n",
       "    <tr>\n",
       "      <th>undisclosed</th>\n",
       "      <td>1100000.0</td>\n",
       "    </tr>\n",
       "    <tr>\n",
       "      <th>venture</th>\n",
       "      <td>5000000.0</td>\n",
       "    </tr>\n",
       "  </tbody>\n",
       "</table>\n",
       "</div>"
      ],
      "text/plain": [
       "                       raised_amount_usd\n",
       "funding_round_type                      \n",
       "angel                           410737.0\n",
       "convertible_note                300000.0\n",
       "debt_financing                 1100000.0\n",
       "equity_crowdfunding              81156.0\n",
       "grant                           229846.0\n",
       "non_equity_assistance            60000.0\n",
       "post_ipo_debt                 19900000.0\n",
       "post_ipo_equity               12225705.0\n",
       "private_equity                20000000.0\n",
       "product_crowdfunding            221198.5\n",
       "secondary_market              40000000.0\n",
       "seed                            300000.0\n",
       "undisclosed                    1100000.0\n",
       "venture                        5000000.0"
      ]
     },
     "execution_count": 54,
     "metadata": {},
     "output_type": "execute_result"
    }
   ],
   "source": [
    "#Calculating Median \n",
    "pd.pivot_table(master_frame,values=\"raised_amount_usd\",index=\"funding_round_type\",aggfunc=np.median)"
   ]
  },
  {
   "cell_type": "code",
   "execution_count": 55,
   "metadata": {},
   "outputs": [
    {
     "data": {
      "text/html": [
       "<div>\n",
       "<style scoped>\n",
       "    .dataframe tbody tr th:only-of-type {\n",
       "        vertical-align: middle;\n",
       "    }\n",
       "\n",
       "    .dataframe tbody tr th {\n",
       "        vertical-align: top;\n",
       "    }\n",
       "\n",
       "    .dataframe thead th {\n",
       "        text-align: right;\n",
       "    }\n",
       "</style>\n",
       "<table border=\"1\" class=\"dataframe\">\n",
       "  <thead>\n",
       "    <tr style=\"text-align: right;\">\n",
       "      <th></th>\n",
       "      <th>raised_amount_usd</th>\n",
       "    </tr>\n",
       "    <tr>\n",
       "      <th>funding_round_type</th>\n",
       "      <th></th>\n",
       "    </tr>\n",
       "  </thead>\n",
       "  <tbody>\n",
       "    <tr>\n",
       "      <th>angel</th>\n",
       "      <td>410737.0</td>\n",
       "    </tr>\n",
       "    <tr>\n",
       "      <th>convertible_note</th>\n",
       "      <td>300000.0</td>\n",
       "    </tr>\n",
       "    <tr>\n",
       "      <th>debt_financing</th>\n",
       "      <td>1100000.0</td>\n",
       "    </tr>\n",
       "    <tr>\n",
       "      <th>equity_crowdfunding</th>\n",
       "      <td>81156.0</td>\n",
       "    </tr>\n",
       "    <tr>\n",
       "      <th>grant</th>\n",
       "      <td>229846.0</td>\n",
       "    </tr>\n",
       "    <tr>\n",
       "      <th>non_equity_assistance</th>\n",
       "      <td>60000.0</td>\n",
       "    </tr>\n",
       "    <tr>\n",
       "      <th>post_ipo_debt</th>\n",
       "      <td>19900000.0</td>\n",
       "    </tr>\n",
       "    <tr>\n",
       "      <th>post_ipo_equity</th>\n",
       "      <td>12225705.0</td>\n",
       "    </tr>\n",
       "    <tr>\n",
       "      <th>private_equity</th>\n",
       "      <td>20000000.0</td>\n",
       "    </tr>\n",
       "    <tr>\n",
       "      <th>product_crowdfunding</th>\n",
       "      <td>221198.5</td>\n",
       "    </tr>\n",
       "    <tr>\n",
       "      <th>secondary_market</th>\n",
       "      <td>40000000.0</td>\n",
       "    </tr>\n",
       "    <tr>\n",
       "      <th>seed</th>\n",
       "      <td>300000.0</td>\n",
       "    </tr>\n",
       "    <tr>\n",
       "      <th>undisclosed</th>\n",
       "      <td>1100000.0</td>\n",
       "    </tr>\n",
       "    <tr>\n",
       "      <th>venture</th>\n",
       "      <td>5000000.0</td>\n",
       "    </tr>\n",
       "  </tbody>\n",
       "</table>\n",
       "</div>"
      ],
      "text/plain": [
       "                       raised_amount_usd\n",
       "funding_round_type                      \n",
       "angel                           410737.0\n",
       "convertible_note                300000.0\n",
       "debt_financing                 1100000.0\n",
       "equity_crowdfunding              81156.0\n",
       "grant                           229846.0\n",
       "non_equity_assistance            60000.0\n",
       "post_ipo_debt                 19900000.0\n",
       "post_ipo_equity               12225705.0\n",
       "private_equity                20000000.0\n",
       "product_crowdfunding            221198.5\n",
       "secondary_market              40000000.0\n",
       "seed                            300000.0\n",
       "undisclosed                    1100000.0\n",
       "venture                        5000000.0"
      ]
     },
     "execution_count": 55,
     "metadata": {},
     "output_type": "execute_result"
    }
   ],
   "source": [
    "pivot_funding_round=pd.pivot_table(master_frame,values=\"raised_amount_usd\",index=\"funding_round_type\",aggfunc=np.median)\n",
    "pivot_funding_round"
   ]
  },
  {
   "cell_type": "code",
   "execution_count": 56,
   "metadata": {},
   "outputs": [
    {
     "data": {
      "text/plain": [
       "Index(['raised_amount_usd'], dtype='object')"
      ]
     },
     "execution_count": 56,
     "metadata": {},
     "output_type": "execute_result"
    }
   ],
   "source": [
    "pivot_funding_round.columns"
   ]
  },
  {
   "cell_type": "code",
   "execution_count": 57,
   "metadata": {},
   "outputs": [
    {
     "data": {
      "text/plain": [
       "funding_round_type\n",
       "angel                      410737.0\n",
       "convertible_note           300000.0\n",
       "debt_financing            1100000.0\n",
       "equity_crowdfunding         81156.0\n",
       "grant                      229846.0\n",
       "non_equity_assistance       60000.0\n",
       "post_ipo_debt            19900000.0\n",
       "post_ipo_equity          12225705.0\n",
       "private_equity           20000000.0\n",
       "product_crowdfunding       221198.5\n",
       "secondary_market         40000000.0\n",
       "seed                       300000.0\n",
       "undisclosed               1100000.0\n",
       "venture                   5000000.0\n",
       "Name: raised_amount_usd, dtype: float64"
      ]
     },
     "execution_count": 57,
     "metadata": {},
     "output_type": "execute_result"
    }
   ],
   "source": [
    "pivot_funding_round[\"raised_amount_usd\"]"
   ]
  },
  {
   "cell_type": "code",
   "execution_count": 58,
   "metadata": {},
   "outputs": [],
   "source": [
    "##Converted into proper Dataframe\n",
    "pivot_funding_round.reset_index(inplace=True)"
   ]
  },
  {
   "cell_type": "code",
   "execution_count": 59,
   "metadata": {},
   "outputs": [
    {
     "data": {
      "text/html": [
       "<div>\n",
       "<style scoped>\n",
       "    .dataframe tbody tr th:only-of-type {\n",
       "        vertical-align: middle;\n",
       "    }\n",
       "\n",
       "    .dataframe tbody tr th {\n",
       "        vertical-align: top;\n",
       "    }\n",
       "\n",
       "    .dataframe thead th {\n",
       "        text-align: right;\n",
       "    }\n",
       "</style>\n",
       "<table border=\"1\" class=\"dataframe\">\n",
       "  <thead>\n",
       "    <tr style=\"text-align: right;\">\n",
       "      <th></th>\n",
       "      <th>funding_round_type</th>\n",
       "      <th>raised_amount_usd</th>\n",
       "    </tr>\n",
       "  </thead>\n",
       "  <tbody>\n",
       "    <tr>\n",
       "      <th>0</th>\n",
       "      <td>angel</td>\n",
       "      <td>410737.0</td>\n",
       "    </tr>\n",
       "    <tr>\n",
       "      <th>1</th>\n",
       "      <td>convertible_note</td>\n",
       "      <td>300000.0</td>\n",
       "    </tr>\n",
       "    <tr>\n",
       "      <th>2</th>\n",
       "      <td>debt_financing</td>\n",
       "      <td>1100000.0</td>\n",
       "    </tr>\n",
       "    <tr>\n",
       "      <th>3</th>\n",
       "      <td>equity_crowdfunding</td>\n",
       "      <td>81156.0</td>\n",
       "    </tr>\n",
       "    <tr>\n",
       "      <th>4</th>\n",
       "      <td>grant</td>\n",
       "      <td>229846.0</td>\n",
       "    </tr>\n",
       "    <tr>\n",
       "      <th>5</th>\n",
       "      <td>non_equity_assistance</td>\n",
       "      <td>60000.0</td>\n",
       "    </tr>\n",
       "    <tr>\n",
       "      <th>6</th>\n",
       "      <td>post_ipo_debt</td>\n",
       "      <td>19900000.0</td>\n",
       "    </tr>\n",
       "    <tr>\n",
       "      <th>7</th>\n",
       "      <td>post_ipo_equity</td>\n",
       "      <td>12225705.0</td>\n",
       "    </tr>\n",
       "    <tr>\n",
       "      <th>8</th>\n",
       "      <td>private_equity</td>\n",
       "      <td>20000000.0</td>\n",
       "    </tr>\n",
       "    <tr>\n",
       "      <th>9</th>\n",
       "      <td>product_crowdfunding</td>\n",
       "      <td>221198.5</td>\n",
       "    </tr>\n",
       "    <tr>\n",
       "      <th>10</th>\n",
       "      <td>secondary_market</td>\n",
       "      <td>40000000.0</td>\n",
       "    </tr>\n",
       "    <tr>\n",
       "      <th>11</th>\n",
       "      <td>seed</td>\n",
       "      <td>300000.0</td>\n",
       "    </tr>\n",
       "    <tr>\n",
       "      <th>12</th>\n",
       "      <td>undisclosed</td>\n",
       "      <td>1100000.0</td>\n",
       "    </tr>\n",
       "    <tr>\n",
       "      <th>13</th>\n",
       "      <td>venture</td>\n",
       "      <td>5000000.0</td>\n",
       "    </tr>\n",
       "  </tbody>\n",
       "</table>\n",
       "</div>"
      ],
      "text/plain": [
       "       funding_round_type  raised_amount_usd\n",
       "0                   angel           410737.0\n",
       "1        convertible_note           300000.0\n",
       "2          debt_financing          1100000.0\n",
       "3     equity_crowdfunding            81156.0\n",
       "4                   grant           229846.0\n",
       "5   non_equity_assistance            60000.0\n",
       "6           post_ipo_debt         19900000.0\n",
       "7         post_ipo_equity         12225705.0\n",
       "8          private_equity         20000000.0\n",
       "9    product_crowdfunding           221198.5\n",
       "10       secondary_market         40000000.0\n",
       "11                   seed           300000.0\n",
       "12            undisclosed          1100000.0\n",
       "13                venture          5000000.0"
      ]
     },
     "execution_count": 59,
     "metadata": {},
     "output_type": "execute_result"
    }
   ],
   "source": [
    "pivot_funding_round"
   ]
  },
  {
   "cell_type": "code",
   "execution_count": 60,
   "metadata": {},
   "outputs": [],
   "source": [
    "## Imputing value with median of each funding round type \n",
    "master_frame.loc[(master_frame[\"funding_round_type\"]==\"angel\") & (master_frame[\"raised_amount_usd\"].isna()),\"raised_amount_usd\"]=pivot_funding_round.loc[0,\"raised_amount_usd\"]\n",
    "master_frame.loc[(master_frame[\"funding_round_type\"]==\"convertible_note\") & (master_frame[\"raised_amount_usd\"].isna()),\"raised_amount_usd\"]=pivot_funding_round.loc[1,\"raised_amount_usd\"]\n",
    "master_frame.loc[(master_frame[\"funding_round_type\"]==\"debt_financing\") & (master_frame[\"raised_amount_usd\"].isna()),\"raised_amount_usd\"]=pivot_funding_round.loc[2,\"raised_amount_usd\"]\n",
    "master_frame.loc[(master_frame[\"funding_round_type\"]==\"equity_crowdfunding\") & (master_frame[\"raised_amount_usd\"].isna()),\"raised_amount_usd\"]=pivot_funding_round.loc[3,\"raised_amount_usd\"]\n",
    "master_frame.loc[(master_frame[\"funding_round_type\"]==\"grant\") & (master_frame[\"raised_amount_usd\"].isna()),\"raised_amount_usd\"]=pivot_funding_round.loc[4,\"raised_amount_usd\"]\n",
    "master_frame.loc[(master_frame[\"funding_round_type\"]==\"non_equity_assistance\") & (master_frame[\"raised_amount_usd\"].isna()),\"raised_amount_usd\"]=pivot_funding_round.loc[5,\"raised_amount_usd\"]\n",
    "master_frame.loc[(master_frame[\"funding_round_type\"]==\"post_ipo_debt\") & (master_frame[\"raised_amount_usd\"].isna()),\"raised_amount_usd\"]=pivot_funding_round.loc[6,\"raised_amount_usd\"]\n",
    "master_frame.loc[(master_frame[\"funding_round_type\"]==\"post_ipo_equity\") & (master_frame[\"raised_amount_usd\"].isna()),\"raised_amount_usd\"]=pivot_funding_round.loc[7,\"raised_amount_usd\"]\n",
    "master_frame.loc[(master_frame[\"funding_round_type\"]==\"private_equity\") & (master_frame[\"raised_amount_usd\"].isna()),\"raised_amount_usd\"]=pivot_funding_round.loc[8,\"raised_amount_usd\"]\n",
    "master_frame.loc[(master_frame[\"funding_round_type\"]==\"product_crowdfunding\") & (master_frame[\"raised_amount_usd\"].isna()),\"raised_amount_usd\"]=pivot_funding_round.loc[9,\"raised_amount_usd\"]\n",
    "master_frame.loc[(master_frame[\"funding_round_type\"]==\"secondary_market\") & (master_frame[\"raised_amount_usd\"].isna()),\"raised_amount_usd\"]=pivot_funding_round.loc[10,\"raised_amount_usd\"]\n",
    "master_frame.loc[(master_frame[\"funding_round_type\"]==\"seed\") & (master_frame[\"raised_amount_usd\"].isna()),\"raised_amount_usd\"]=pivot_funding_round.loc[11,\"raised_amount_usd\"]\n",
    "master_frame.loc[(master_frame[\"funding_round_type\"]==\"undisclosed\") & (master_frame[\"raised_amount_usd\"].isna()),\"raised_amount_usd\"]=pivot_funding_round.loc[12,\"raised_amount_usd\"]\n",
    "master_frame.loc[(master_frame[\"funding_round_type\"]==\"venture\") & (master_frame[\"raised_amount_usd\"].isna()),\"raised_amount_usd\"]=pivot_funding_round.loc[13,\"raised_amount_usd\"]\n"
   ]
  },
  {
   "cell_type": "code",
   "execution_count": 61,
   "metadata": {},
   "outputs": [],
   "source": [
    "#funding_round_type_list=pivot_funding_round[\"funding_round_type\"].tolist()"
   ]
  },
  {
   "cell_type": "code",
   "execution_count": 62,
   "metadata": {},
   "outputs": [],
   "source": [
    "#master_frame1=master_frame"
   ]
  },
  {
   "cell_type": "code",
   "execution_count": 63,
   "metadata": {},
   "outputs": [],
   "source": [
    "#pivot_funding_round.loc[1,\"raised_amount_usd\"]"
   ]
  },
  {
   "cell_type": "code",
   "execution_count": 64,
   "metadata": {},
   "outputs": [],
   "source": [
    "#for ftype in funding_round_type_list:\n",
    "#    master_frame1.loc[(master_frame1[\"funding_round_type\"]==ftype) & (master_frame1[\"raised_amount_usd\"].isna()),\"raised_amount_usd\"]=pivot_funding_round[\"funding_round_type\"]==\n",
    "#master_frame.loc[master_frame[\"funding_round_type\"]==\"\"]"
   ]
  },
  {
   "cell_type": "code",
   "execution_count": 65,
   "metadata": {},
   "outputs": [
    {
     "data": {
      "text/plain": [
       "permalink                     0\n",
       "name                          0\n",
       "homepage_url               4552\n",
       "category_list              1739\n",
       "status                        0\n",
       "country_code                  0\n",
       "state_code                    0\n",
       "funding_round_permalink       0\n",
       "funding_round_type            0\n",
       "funding_round_code            0\n",
       "funded_at                     0\n",
       "raised_amount_usd             0\n",
       "dtype: int64"
      ]
     },
     "execution_count": 65,
     "metadata": {},
     "output_type": "execute_result"
    }
   ],
   "source": [
    "##checking null values \n",
    "master_frame.isna().sum()"
   ]
  },
  {
   "cell_type": "code",
   "execution_count": 66,
   "metadata": {},
   "outputs": [
    {
     "data": {
      "text/plain": [
       "count          52619.000000\n",
       "mean        11158708.992227\n",
       "std         84120300.753010\n",
       "min                0.000000\n",
       "25%          1999999.000000\n",
       "50%          5000000.000000\n",
       "75%         10754900.000000\n",
       "max      17600000000.000000\n",
       "Name: raised_amount_usd, dtype: object"
      ]
     },
     "execution_count": 66,
     "metadata": {},
     "output_type": "execute_result"
    }
   ],
   "source": [
    "master_frame[master_frame[\"funding_round_type\"]==\"venture\"][\"raised_amount_usd\"].describe().apply(lambda x: format(x, 'f'))"
   ]
  },
  {
   "cell_type": "code",
   "execution_count": 67,
   "metadata": {},
   "outputs": [
    {
     "data": {
      "text/plain": [
       "count        26867.000000\n",
       "mean        654137.150035\n",
       "std        2037824.852450\n",
       "min              0.000000\n",
       "25%         100000.000000\n",
       "50%         300000.000000\n",
       "75%         750000.000000\n",
       "max      200000000.000000\n",
       "Name: raised_amount_usd, dtype: object"
      ]
     },
     "execution_count": 67,
     "metadata": {},
     "output_type": "execute_result"
    }
   ],
   "source": [
    "master_frame[master_frame[\"funding_round_type\"]==\"seed\"][\"raised_amount_usd\"].describe().apply(lambda x: format(x, 'f'))"
   ]
  },
  {
   "cell_type": "code",
   "execution_count": 68,
   "metadata": {},
   "outputs": [
    {
     "data": {
      "text/plain": [
       "(106271, 12)"
      ]
     },
     "execution_count": 68,
     "metadata": {},
     "output_type": "execute_result"
    }
   ],
   "source": [
    "master_frame.shape"
   ]
  },
  {
   "cell_type": "code",
   "execution_count": 69,
   "metadata": {},
   "outputs": [],
   "source": [
    "### homepage URL is not needed for our analysis dropping that column\n",
    "master_frame.drop(\"homepage_url\",inplace=True,axis=1)"
   ]
  },
  {
   "cell_type": "code",
   "execution_count": 70,
   "metadata": {},
   "outputs": [
    {
     "data": {
      "text/plain": [
       "permalink                     0\n",
       "name                          0\n",
       "category_list              1739\n",
       "status                        0\n",
       "country_code                  0\n",
       "state_code                    0\n",
       "funding_round_permalink       0\n",
       "funding_round_type            0\n",
       "funding_round_code            0\n",
       "funded_at                     0\n",
       "raised_amount_usd             0\n",
       "dtype: int64"
      ]
     },
     "execution_count": 70,
     "metadata": {},
     "output_type": "execute_result"
    }
   ],
   "source": [
    "master_frame.isna().sum()"
   ]
  },
  {
   "cell_type": "code",
   "execution_count": 71,
   "metadata": {},
   "outputs": [
    {
     "data": {
      "text/plain": [
       "Software                                                         3995\n",
       "Biotechnology                                                    3615\n",
       "E-Commerce                                                       1332\n",
       "Mobile                                                           1177\n",
       "Clean Technology                                                 1133\n",
       "                                                                 ... \n",
       "Apps|Internet|Technology                                            1\n",
       "Art|CRM|Enterprise Software|Music|Sports|Technology|Ticketing       1\n",
       "Small and Medium Businesses|University Students                     1\n",
       "Education|Educational Games|Edutainment                             1\n",
       "Communities|Unifed Communications|Web Tools                         1\n",
       "Name: category_list, Length: 27296, dtype: int64"
      ]
     },
     "execution_count": 71,
     "metadata": {},
     "output_type": "execute_result"
    }
   ],
   "source": [
    "df[\"category_list\"].value_counts()"
   ]
  },
  {
   "cell_type": "code",
   "execution_count": 72,
   "metadata": {},
   "outputs": [],
   "source": [
    "## there are 1739 missing values out of 106k records it is around 2% so dropping all these missing values \n",
    "master_frame=master_frame[~master_frame[\"category_list\"].isna()]"
   ]
  },
  {
   "cell_type": "code",
   "execution_count": 73,
   "metadata": {},
   "outputs": [
    {
     "data": {
      "text/plain": [
       "permalink                  0\n",
       "name                       0\n",
       "category_list              0\n",
       "status                     0\n",
       "country_code               0\n",
       "state_code                 0\n",
       "funding_round_permalink    0\n",
       "funding_round_type         0\n",
       "funding_round_code         0\n",
       "funded_at                  0\n",
       "raised_amount_usd          0\n",
       "dtype: int64"
      ]
     },
     "execution_count": 73,
     "metadata": {},
     "output_type": "execute_result"
    }
   ],
   "source": [
    "master_frame.isna().sum()"
   ]
  },
  {
   "cell_type": "code",
   "execution_count": 74,
   "metadata": {},
   "outputs": [
    {
     "data": {
      "text/plain": [
       "(104532, 11)"
      ]
     },
     "execution_count": 74,
     "metadata": {},
     "output_type": "execute_result"
    }
   ],
   "source": [
    "master_frame.shape"
   ]
  },
  {
   "cell_type": "code",
   "execution_count": 75,
   "metadata": {},
   "outputs": [
    {
     "data": {
      "text/plain": [
       "5000000.0     5845\n",
       "10000000.0    1725\n",
       "2000000.0     1161\n",
       "3000000.0     1142\n",
       "1000000.0     1086\n",
       "15000000.0    1030\n",
       "4000000.0      964\n",
       "20000000.0     929\n",
       "6000000.0      921\n",
       "8000000.0      822\n",
       "Name: raised_amount_usd, dtype: int64"
      ]
     },
     "execution_count": 75,
     "metadata": {},
     "output_type": "execute_result"
    }
   ],
   "source": [
    "### Deriving representative  funding amount for Venture type \n",
    "master_frame[master_frame[\"funding_round_type\"]==\"venture\"][\"raised_amount_usd\"].value_counts().head(10)\n"
   ]
  },
  {
   "cell_type": "code",
   "execution_count": 76,
   "metadata": {},
   "outputs": [
    {
     "data": {
      "text/plain": [
       "count          52024.000000\n",
       "mean        11179424.161848\n",
       "std         84586439.046751\n",
       "min                0.000000\n",
       "25%          1955812.500000\n",
       "50%          5000000.000000\n",
       "75%         10806384.250000\n",
       "max      17600000000.000000\n",
       "Name: raised_amount_usd, dtype: object"
      ]
     },
     "execution_count": 76,
     "metadata": {},
     "output_type": "execute_result"
    }
   ],
   "source": [
    "master_frame[master_frame[\"funding_round_type\"]==\"venture\"][\"raised_amount_usd\"].describe().apply(lambda x: format(x, 'f'))"
   ]
  },
  {
   "cell_type": "markdown",
   "metadata": {},
   "source": [
    "- Most of the investemnet was done for 5000000 and that is also median\n",
    "- For venture type representaive amoint is 5000000"
   ]
  },
  {
   "cell_type": "code",
   "execution_count": 77,
   "metadata": {},
   "outputs": [
    {
     "data": {
      "text/plain": [
       "410737.0     1018\n",
       "500000.0      255\n",
       "1000000.0     251\n",
       "100000.0      219\n",
       "250000.0      160\n",
       "300000.0      138\n",
       "200000.0      133\n",
       "2000000.0     100\n",
       "1500000.0      97\n",
       "400000.0       87\n",
       "Name: raised_amount_usd, dtype: int64"
      ]
     },
     "execution_count": 77,
     "metadata": {},
     "output_type": "execute_result"
    }
   ],
   "source": [
    "### Deriving representative  funding amount for Angel type \n",
    "master_frame[master_frame[\"funding_round_type\"]==\"angel\"][\"raised_amount_usd\"].value_counts().head(10)"
   ]
  },
  {
   "cell_type": "code",
   "execution_count": 78,
   "metadata": {},
   "outputs": [
    {
     "data": {
      "text/plain": [
       "count         5417.000000\n",
       "mean        866281.087318\n",
       "std        6952781.393820\n",
       "min              0.000000\n",
       "25%         200000.000000\n",
       "50%         410737.000000\n",
       "75%         770000.000000\n",
       "max      494511992.000000\n",
       "Name: raised_amount_usd, dtype: object"
      ]
     },
     "execution_count": 78,
     "metadata": {},
     "output_type": "execute_result"
    }
   ],
   "source": [
    "master_frame[master_frame[\"funding_round_type\"]==\"angel\"][\"raised_amount_usd\"].describe().apply(lambda x: format(x, 'f'))"
   ]
  },
  {
   "cell_type": "markdown",
   "metadata": {},
   "source": [
    "- Most of the investemnet was done for 410737 and that is also median\n",
    "- For angel type representaive amount is around 500000"
   ]
  },
  {
   "cell_type": "code",
   "execution_count": 79,
   "metadata": {},
   "outputs": [
    {
     "data": {
      "text/plain": [
       "300000.0     5722\n",
       "1000000.0    1000\n",
       "500000.0      867\n",
       "100000.0      838\n",
       "40000.0       760\n",
       "50000.0       690\n",
       "2000000.0     576\n",
       "25000.0       555\n",
       "250000.0      531\n",
       "20000.0       521\n",
       "Name: raised_amount_usd, dtype: int64"
      ]
     },
     "execution_count": 79,
     "metadata": {},
     "output_type": "execute_result"
    }
   ],
   "source": [
    "### Deriving representative  funding amount for seed type \n",
    "master_frame[master_frame[\"funding_round_type\"]==\"seed\"][\"raised_amount_usd\"].value_counts().head(10)"
   ]
  },
  {
   "cell_type": "code",
   "execution_count": 80,
   "metadata": {},
   "outputs": [
    {
     "data": {
      "text/plain": [
       "count        26438.000000\n",
       "mean        657296.608367\n",
       "std        2051935.884451\n",
       "min              0.000000\n",
       "25%         100000.000000\n",
       "50%         300000.000000\n",
       "75%         750000.000000\n",
       "max      200000000.000000\n",
       "Name: raised_amount_usd, dtype: object"
      ]
     },
     "execution_count": 80,
     "metadata": {},
     "output_type": "execute_result"
    }
   ],
   "source": [
    "master_frame[master_frame[\"funding_round_type\"]==\"seed\"][\"raised_amount_usd\"].describe().apply(lambda x: format(x, 'f'))"
   ]
  },
  {
   "cell_type": "markdown",
   "metadata": {},
   "source": [
    "- For seed type representaive amount is around 300000"
   ]
  },
  {
   "cell_type": "code",
   "execution_count": 81,
   "metadata": {},
   "outputs": [
    {
     "data": {
      "text/plain": [
       "20000000.0     267\n",
       "100000000.0     65\n",
       "10000000.0      38\n",
       "25000000.0      37\n",
       "5000000.0       37\n",
       "50000000.0      37\n",
       "15000000.0      27\n",
       "60000000.0      27\n",
       "75000000.0      26\n",
       "30000000.0      23\n",
       "Name: raised_amount_usd, dtype: int64"
      ]
     },
     "execution_count": 81,
     "metadata": {},
     "output_type": "execute_result"
    }
   ],
   "source": [
    "### Deriving representative  funding amount for seed type \n",
    "master_frame[master_frame[\"funding_round_type\"]==\"private_equity\"][\"raised_amount_usd\"].value_counts().head(10)\n",
    "\n"
   ]
  },
  {
   "cell_type": "code",
   "execution_count": 82,
   "metadata": {},
   "outputs": [
    {
     "data": {
      "text/plain": [
       "count          2055.000000\n",
       "mean       67770338.209732\n",
       "std       190657925.565297\n",
       "min               0.000000\n",
       "25%         6000000.500000\n",
       "50%        20000000.000000\n",
       "75%        67273600.000000\n",
       "max      4745460219.000000\n",
       "Name: raised_amount_usd, dtype: object"
      ]
     },
     "execution_count": 82,
     "metadata": {},
     "output_type": "execute_result"
    }
   ],
   "source": [
    "master_frame[master_frame[\"funding_round_type\"]==\"private_equity\"][\"raised_amount_usd\"].describe().apply(lambda x: format(x, 'f'))"
   ]
  },
  {
   "cell_type": "markdown",
   "metadata": {},
   "source": [
    "- For seed type representaive amount is around 20000000"
   ]
  },
  {
   "cell_type": "markdown",
   "metadata": {},
   "source": [
    "Best Suited  investment type is venture  cateory for Spark considering 5 to 15 million investemnet range "
   ]
  },
  {
   "cell_type": "markdown",
   "metadata": {},
   "source": [
    "## Checkpoint 3: Country Analysis"
   ]
  },
  {
   "cell_type": "code",
   "execution_count": 83,
   "metadata": {},
   "outputs": [
    {
     "data": {
      "text/html": [
       "<div>\n",
       "<style scoped>\n",
       "    .dataframe tbody tr th:only-of-type {\n",
       "        vertical-align: middle;\n",
       "    }\n",
       "\n",
       "    .dataframe tbody tr th {\n",
       "        vertical-align: top;\n",
       "    }\n",
       "\n",
       "    .dataframe thead th {\n",
       "        text-align: right;\n",
       "    }\n",
       "</style>\n",
       "<table border=\"1\" class=\"dataframe\">\n",
       "  <thead>\n",
       "    <tr style=\"text-align: right;\">\n",
       "      <th>funding_round_type</th>\n",
       "      <th>venture</th>\n",
       "    </tr>\n",
       "    <tr>\n",
       "      <th>country_code</th>\n",
       "      <th></th>\n",
       "    </tr>\n",
       "  </thead>\n",
       "  <tbody>\n",
       "    <tr>\n",
       "      <th>USA</th>\n",
       "      <td>4.305230e+11</td>\n",
       "    </tr>\n",
       "    <tr>\n",
       "      <th>CHN</th>\n",
       "      <td>4.185392e+10</td>\n",
       "    </tr>\n",
       "    <tr>\n",
       "      <th>GBR</th>\n",
       "      <td>2.119281e+10</td>\n",
       "    </tr>\n",
       "    <tr>\n",
       "      <th>IND</th>\n",
       "      <td>1.508651e+10</td>\n",
       "    </tr>\n",
       "    <tr>\n",
       "      <th>CAN</th>\n",
       "      <td>9.907218e+09</td>\n",
       "    </tr>\n",
       "    <tr>\n",
       "      <th>FRA</th>\n",
       "      <td>7.521851e+09</td>\n",
       "    </tr>\n",
       "    <tr>\n",
       "      <th>ISR</th>\n",
       "      <td>7.409350e+09</td>\n",
       "    </tr>\n",
       "    <tr>\n",
       "      <th>DEU</th>\n",
       "      <td>7.401922e+09</td>\n",
       "    </tr>\n",
       "    <tr>\n",
       "      <th>JPN</th>\n",
       "      <td>3.362647e+09</td>\n",
       "    </tr>\n",
       "  </tbody>\n",
       "</table>\n",
       "</div>"
      ],
      "text/plain": [
       "funding_round_type       venture\n",
       "country_code                    \n",
       "USA                 4.305230e+11\n",
       "CHN                 4.185392e+10\n",
       "GBR                 2.119281e+10\n",
       "IND                 1.508651e+10\n",
       "CAN                 9.907218e+09\n",
       "FRA                 7.521851e+09\n",
       "ISR                 7.409350e+09\n",
       "DEU                 7.401922e+09\n",
       "JPN                 3.362647e+09"
      ]
     },
     "execution_count": 83,
     "metadata": {},
     "output_type": "execute_result"
    }
   ],
   "source": [
    "##Calculating sum of all investment with funding_round_type as venture \n",
    "master_frame_venture=master_frame[master_frame[\"funding_round_type\"]==\"venture\"]\n",
    "pd.pivot_table(master_frame_venture,values=\"raised_amount_usd\",index=\"country_code\",columns=\"funding_round_type\",aggfunc=np.sum).sort_values(by=\"venture\",ascending=False).head(9)"
   ]
  },
  {
   "cell_type": "code",
   "execution_count": 84,
   "metadata": {},
   "outputs": [],
   "source": [
    "##Defined top9 as DataFrame\n",
    "top9=pd.pivot_table(master_frame_venture,values=\"raised_amount_usd\",index=\"country_code\",columns=\"funding_round_type\",aggfunc=np.sum).sort_values(by=\"venture\",ascending=False).head(9)"
   ]
  },
  {
   "cell_type": "code",
   "execution_count": 85,
   "metadata": {},
   "outputs": [
    {
     "data": {
      "text/html": [
       "<div>\n",
       "<style scoped>\n",
       "    .dataframe tbody tr th:only-of-type {\n",
       "        vertical-align: middle;\n",
       "    }\n",
       "\n",
       "    .dataframe tbody tr th {\n",
       "        vertical-align: top;\n",
       "    }\n",
       "\n",
       "    .dataframe thead th {\n",
       "        text-align: right;\n",
       "    }\n",
       "</style>\n",
       "<table border=\"1\" class=\"dataframe\">\n",
       "  <thead>\n",
       "    <tr style=\"text-align: right;\">\n",
       "      <th>funding_round_type</th>\n",
       "      <th>venture</th>\n",
       "    </tr>\n",
       "    <tr>\n",
       "      <th>country_code</th>\n",
       "      <th></th>\n",
       "    </tr>\n",
       "  </thead>\n",
       "  <tbody>\n",
       "    <tr>\n",
       "      <th>USA</th>\n",
       "      <td>4.305230e+11</td>\n",
       "    </tr>\n",
       "    <tr>\n",
       "      <th>CHN</th>\n",
       "      <td>4.185392e+10</td>\n",
       "    </tr>\n",
       "    <tr>\n",
       "      <th>GBR</th>\n",
       "      <td>2.119281e+10</td>\n",
       "    </tr>\n",
       "    <tr>\n",
       "      <th>IND</th>\n",
       "      <td>1.508651e+10</td>\n",
       "    </tr>\n",
       "    <tr>\n",
       "      <th>CAN</th>\n",
       "      <td>9.907218e+09</td>\n",
       "    </tr>\n",
       "    <tr>\n",
       "      <th>FRA</th>\n",
       "      <td>7.521851e+09</td>\n",
       "    </tr>\n",
       "    <tr>\n",
       "      <th>ISR</th>\n",
       "      <td>7.409350e+09</td>\n",
       "    </tr>\n",
       "    <tr>\n",
       "      <th>DEU</th>\n",
       "      <td>7.401922e+09</td>\n",
       "    </tr>\n",
       "    <tr>\n",
       "      <th>JPN</th>\n",
       "      <td>3.362647e+09</td>\n",
       "    </tr>\n",
       "  </tbody>\n",
       "</table>\n",
       "</div>"
      ],
      "text/plain": [
       "funding_round_type       venture\n",
       "country_code                    \n",
       "USA                 4.305230e+11\n",
       "CHN                 4.185392e+10\n",
       "GBR                 2.119281e+10\n",
       "IND                 1.508651e+10\n",
       "CAN                 9.907218e+09\n",
       "FRA                 7.521851e+09\n",
       "ISR                 7.409350e+09\n",
       "DEU                 7.401922e+09\n",
       "JPN                 3.362647e+09"
      ]
     },
     "execution_count": 85,
     "metadata": {},
     "output_type": "execute_result"
    }
   ],
   "source": [
    "top9"
   ]
  },
  {
   "cell_type": "markdown",
   "metadata": {},
   "source": [
    "#### Top Three English Speaking counteries \n",
    "- USA\n",
    "- GBR\n",
    "- IND"
   ]
  },
  {
   "cell_type": "markdown",
   "metadata": {},
   "source": [
    "##  Checkpoint 4: Sector Analysis 1"
   ]
  },
  {
   "cell_type": "code",
   "execution_count": 86,
   "metadata": {},
   "outputs": [],
   "source": [
    "## Loading mapping data \n",
    "df2=pd.read_csv(\"mapping.csv\")"
   ]
  },
  {
   "cell_type": "code",
   "execution_count": 87,
   "metadata": {},
   "outputs": [
    {
     "data": {
      "text/html": [
       "<div>\n",
       "<style scoped>\n",
       "    .dataframe tbody tr th:only-of-type {\n",
       "        vertical-align: middle;\n",
       "    }\n",
       "\n",
       "    .dataframe tbody tr th {\n",
       "        vertical-align: top;\n",
       "    }\n",
       "\n",
       "    .dataframe thead th {\n",
       "        text-align: right;\n",
       "    }\n",
       "</style>\n",
       "<table border=\"1\" class=\"dataframe\">\n",
       "  <thead>\n",
       "    <tr style=\"text-align: right;\">\n",
       "      <th></th>\n",
       "      <th>category_list</th>\n",
       "      <th>Automotive &amp; Sports</th>\n",
       "      <th>Blanks</th>\n",
       "      <th>Cleantech / Semiconductors</th>\n",
       "      <th>Entertainment</th>\n",
       "      <th>Health</th>\n",
       "      <th>Manufacturing</th>\n",
       "      <th>News, Search and Messaging</th>\n",
       "      <th>Others</th>\n",
       "      <th>Social, Finance, Analytics, Advertising</th>\n",
       "    </tr>\n",
       "  </thead>\n",
       "  <tbody>\n",
       "    <tr>\n",
       "      <th>0</th>\n",
       "      <td>NaN</td>\n",
       "      <td>0</td>\n",
       "      <td>1</td>\n",
       "      <td>0</td>\n",
       "      <td>0</td>\n",
       "      <td>0</td>\n",
       "      <td>0</td>\n",
       "      <td>0</td>\n",
       "      <td>0</td>\n",
       "      <td>0</td>\n",
       "    </tr>\n",
       "    <tr>\n",
       "      <th>1</th>\n",
       "      <td>3D</td>\n",
       "      <td>0</td>\n",
       "      <td>0</td>\n",
       "      <td>0</td>\n",
       "      <td>0</td>\n",
       "      <td>0</td>\n",
       "      <td>1</td>\n",
       "      <td>0</td>\n",
       "      <td>0</td>\n",
       "      <td>0</td>\n",
       "    </tr>\n",
       "    <tr>\n",
       "      <th>2</th>\n",
       "      <td>3D Printing</td>\n",
       "      <td>0</td>\n",
       "      <td>0</td>\n",
       "      <td>0</td>\n",
       "      <td>0</td>\n",
       "      <td>0</td>\n",
       "      <td>1</td>\n",
       "      <td>0</td>\n",
       "      <td>0</td>\n",
       "      <td>0</td>\n",
       "    </tr>\n",
       "    <tr>\n",
       "      <th>3</th>\n",
       "      <td>3D Technology</td>\n",
       "      <td>0</td>\n",
       "      <td>0</td>\n",
       "      <td>0</td>\n",
       "      <td>0</td>\n",
       "      <td>0</td>\n",
       "      <td>1</td>\n",
       "      <td>0</td>\n",
       "      <td>0</td>\n",
       "      <td>0</td>\n",
       "    </tr>\n",
       "    <tr>\n",
       "      <th>4</th>\n",
       "      <td>Accounting</td>\n",
       "      <td>0</td>\n",
       "      <td>0</td>\n",
       "      <td>0</td>\n",
       "      <td>0</td>\n",
       "      <td>0</td>\n",
       "      <td>0</td>\n",
       "      <td>0</td>\n",
       "      <td>0</td>\n",
       "      <td>1</td>\n",
       "    </tr>\n",
       "    <tr>\n",
       "      <th>...</th>\n",
       "      <td>...</td>\n",
       "      <td>...</td>\n",
       "      <td>...</td>\n",
       "      <td>...</td>\n",
       "      <td>...</td>\n",
       "      <td>...</td>\n",
       "      <td>...</td>\n",
       "      <td>...</td>\n",
       "      <td>...</td>\n",
       "      <td>...</td>\n",
       "    </tr>\n",
       "    <tr>\n",
       "      <th>683</th>\n",
       "      <td>Wholesale</td>\n",
       "      <td>0</td>\n",
       "      <td>0</td>\n",
       "      <td>0</td>\n",
       "      <td>0</td>\n",
       "      <td>0</td>\n",
       "      <td>0</td>\n",
       "      <td>0</td>\n",
       "      <td>1</td>\n",
       "      <td>0</td>\n",
       "    </tr>\n",
       "    <tr>\n",
       "      <th>684</th>\n",
       "      <td>Wine And Spirits</td>\n",
       "      <td>0</td>\n",
       "      <td>0</td>\n",
       "      <td>0</td>\n",
       "      <td>1</td>\n",
       "      <td>0</td>\n",
       "      <td>0</td>\n",
       "      <td>0</td>\n",
       "      <td>0</td>\n",
       "      <td>0</td>\n",
       "    </tr>\n",
       "    <tr>\n",
       "      <th>685</th>\n",
       "      <td>Wireless</td>\n",
       "      <td>0</td>\n",
       "      <td>0</td>\n",
       "      <td>0</td>\n",
       "      <td>1</td>\n",
       "      <td>0</td>\n",
       "      <td>0</td>\n",
       "      <td>0</td>\n",
       "      <td>0</td>\n",
       "      <td>0</td>\n",
       "    </tr>\n",
       "    <tr>\n",
       "      <th>686</th>\n",
       "      <td>Women</td>\n",
       "      <td>0</td>\n",
       "      <td>0</td>\n",
       "      <td>0</td>\n",
       "      <td>0</td>\n",
       "      <td>0</td>\n",
       "      <td>0</td>\n",
       "      <td>0</td>\n",
       "      <td>1</td>\n",
       "      <td>0</td>\n",
       "    </tr>\n",
       "    <tr>\n",
       "      <th>687</th>\n",
       "      <td>Young Adults</td>\n",
       "      <td>0</td>\n",
       "      <td>0</td>\n",
       "      <td>0</td>\n",
       "      <td>0</td>\n",
       "      <td>0</td>\n",
       "      <td>0</td>\n",
       "      <td>0</td>\n",
       "      <td>1</td>\n",
       "      <td>0</td>\n",
       "    </tr>\n",
       "  </tbody>\n",
       "</table>\n",
       "<p>688 rows × 10 columns</p>\n",
       "</div>"
      ],
      "text/plain": [
       "        category_list  Automotive & Sports  Blanks  \\\n",
       "0                 NaN                    0       1   \n",
       "1                  3D                    0       0   \n",
       "2         3D Printing                    0       0   \n",
       "3       3D Technology                    0       0   \n",
       "4          Accounting                    0       0   \n",
       "..                ...                  ...     ...   \n",
       "683         Wholesale                    0       0   \n",
       "684  Wine And Spirits                    0       0   \n",
       "685          Wireless                    0       0   \n",
       "686             Women                    0       0   \n",
       "687      Young Adults                    0       0   \n",
       "\n",
       "     Cleantech / Semiconductors  Entertainment  Health  Manufacturing  \\\n",
       "0                             0              0       0              0   \n",
       "1                             0              0       0              1   \n",
       "2                             0              0       0              1   \n",
       "3                             0              0       0              1   \n",
       "4                             0              0       0              0   \n",
       "..                          ...            ...     ...            ...   \n",
       "683                           0              0       0              0   \n",
       "684                           0              1       0              0   \n",
       "685                           0              1       0              0   \n",
       "686                           0              0       0              0   \n",
       "687                           0              0       0              0   \n",
       "\n",
       "     News, Search and Messaging  Others  \\\n",
       "0                             0       0   \n",
       "1                             0       0   \n",
       "2                             0       0   \n",
       "3                             0       0   \n",
       "4                             0       0   \n",
       "..                          ...     ...   \n",
       "683                           0       1   \n",
       "684                           0       0   \n",
       "685                           0       0   \n",
       "686                           0       1   \n",
       "687                           0       1   \n",
       "\n",
       "     Social, Finance, Analytics, Advertising  \n",
       "0                                          0  \n",
       "1                                          0  \n",
       "2                                          0  \n",
       "3                                          0  \n",
       "4                                          1  \n",
       "..                                       ...  \n",
       "683                                        0  \n",
       "684                                        0  \n",
       "685                                        0  \n",
       "686                                        0  \n",
       "687                                        0  \n",
       "\n",
       "[688 rows x 10 columns]"
      ]
     },
     "execution_count": 87,
     "metadata": {},
     "output_type": "execute_result"
    }
   ],
   "source": [
    "df2"
   ]
  },
  {
   "cell_type": "code",
   "execution_count": 88,
   "metadata": {},
   "outputs": [
    {
     "data": {
      "text/html": [
       "<div>\n",
       "<style scoped>\n",
       "    .dataframe tbody tr th:only-of-type {\n",
       "        vertical-align: middle;\n",
       "    }\n",
       "\n",
       "    .dataframe tbody tr th {\n",
       "        vertical-align: top;\n",
       "    }\n",
       "\n",
       "    .dataframe thead th {\n",
       "        text-align: right;\n",
       "    }\n",
       "</style>\n",
       "<table border=\"1\" class=\"dataframe\">\n",
       "  <thead>\n",
       "    <tr style=\"text-align: right;\">\n",
       "      <th></th>\n",
       "      <th>category_list</th>\n",
       "      <th>variable</th>\n",
       "      <th>value</th>\n",
       "    </tr>\n",
       "  </thead>\n",
       "  <tbody>\n",
       "    <tr>\n",
       "      <th>0</th>\n",
       "      <td>NaN</td>\n",
       "      <td>Automotive &amp; Sports</td>\n",
       "      <td>0</td>\n",
       "    </tr>\n",
       "    <tr>\n",
       "      <th>1</th>\n",
       "      <td>3D</td>\n",
       "      <td>Automotive &amp; Sports</td>\n",
       "      <td>0</td>\n",
       "    </tr>\n",
       "    <tr>\n",
       "      <th>2</th>\n",
       "      <td>3D Printing</td>\n",
       "      <td>Automotive &amp; Sports</td>\n",
       "      <td>0</td>\n",
       "    </tr>\n",
       "    <tr>\n",
       "      <th>3</th>\n",
       "      <td>3D Technology</td>\n",
       "      <td>Automotive &amp; Sports</td>\n",
       "      <td>0</td>\n",
       "    </tr>\n",
       "    <tr>\n",
       "      <th>4</th>\n",
       "      <td>Accounting</td>\n",
       "      <td>Automotive &amp; Sports</td>\n",
       "      <td>0</td>\n",
       "    </tr>\n",
       "    <tr>\n",
       "      <th>...</th>\n",
       "      <td>...</td>\n",
       "      <td>...</td>\n",
       "      <td>...</td>\n",
       "    </tr>\n",
       "    <tr>\n",
       "      <th>6187</th>\n",
       "      <td>Wholesale</td>\n",
       "      <td>Social, Finance, Analytics, Advertising</td>\n",
       "      <td>0</td>\n",
       "    </tr>\n",
       "    <tr>\n",
       "      <th>6188</th>\n",
       "      <td>Wine And Spirits</td>\n",
       "      <td>Social, Finance, Analytics, Advertising</td>\n",
       "      <td>0</td>\n",
       "    </tr>\n",
       "    <tr>\n",
       "      <th>6189</th>\n",
       "      <td>Wireless</td>\n",
       "      <td>Social, Finance, Analytics, Advertising</td>\n",
       "      <td>0</td>\n",
       "    </tr>\n",
       "    <tr>\n",
       "      <th>6190</th>\n",
       "      <td>Women</td>\n",
       "      <td>Social, Finance, Analytics, Advertising</td>\n",
       "      <td>0</td>\n",
       "    </tr>\n",
       "    <tr>\n",
       "      <th>6191</th>\n",
       "      <td>Young Adults</td>\n",
       "      <td>Social, Finance, Analytics, Advertising</td>\n",
       "      <td>0</td>\n",
       "    </tr>\n",
       "  </tbody>\n",
       "</table>\n",
       "<p>6192 rows × 3 columns</p>\n",
       "</div>"
      ],
      "text/plain": [
       "         category_list                                 variable  value\n",
       "0                  NaN                      Automotive & Sports      0\n",
       "1                   3D                      Automotive & Sports      0\n",
       "2          3D Printing                      Automotive & Sports      0\n",
       "3        3D Technology                      Automotive & Sports      0\n",
       "4           Accounting                      Automotive & Sports      0\n",
       "...                ...                                      ...    ...\n",
       "6187         Wholesale  Social, Finance, Analytics, Advertising      0\n",
       "6188  Wine And Spirits  Social, Finance, Analytics, Advertising      0\n",
       "6189          Wireless  Social, Finance, Analytics, Advertising      0\n",
       "6190             Women  Social, Finance, Analytics, Advertising      0\n",
       "6191      Young Adults  Social, Finance, Analytics, Advertising      0\n",
       "\n",
       "[6192 rows x 3 columns]"
      ]
     },
     "execution_count": 88,
     "metadata": {},
     "output_type": "execute_result"
    }
   ],
   "source": [
    "##Converted into long format \n",
    "value_vars=list(df2.columns[1:])\n",
    "id_vars=list(np.setdiff1d(df2.columns,value_vars))\n",
    "df2_long=pd.melt(df2,id_vars=id_vars,value_vars=value_vars)\n",
    "df2_long"
   ]
  },
  {
   "cell_type": "code",
   "execution_count": 89,
   "metadata": {},
   "outputs": [],
   "source": [
    "df2_long=df2_long[df2_long[\"value\"]==1]\n",
    "df2_long.drop(\"value\",axis=1,inplace=True)\n",
    "df2_long.rename(columns={\"variable\":\"Main Sector\"},inplace=True)"
   ]
  },
  {
   "cell_type": "code",
   "execution_count": 90,
   "metadata": {},
   "outputs": [
    {
     "data": {
      "text/html": [
       "<div>\n",
       "<style scoped>\n",
       "    .dataframe tbody tr th:only-of-type {\n",
       "        vertical-align: middle;\n",
       "    }\n",
       "\n",
       "    .dataframe tbody tr th {\n",
       "        vertical-align: top;\n",
       "    }\n",
       "\n",
       "    .dataframe thead th {\n",
       "        text-align: right;\n",
       "    }\n",
       "</style>\n",
       "<table border=\"1\" class=\"dataframe\">\n",
       "  <thead>\n",
       "    <tr style=\"text-align: right;\">\n",
       "      <th></th>\n",
       "      <th>category_list</th>\n",
       "      <th>Main Sector</th>\n",
       "    </tr>\n",
       "  </thead>\n",
       "  <tbody>\n",
       "    <tr>\n",
       "      <th>8</th>\n",
       "      <td>Adventure Travel</td>\n",
       "      <td>Automotive &amp; Sports</td>\n",
       "    </tr>\n",
       "    <tr>\n",
       "      <th>14</th>\n",
       "      <td>Aerospace</td>\n",
       "      <td>Automotive &amp; Sports</td>\n",
       "    </tr>\n",
       "    <tr>\n",
       "      <th>45</th>\n",
       "      <td>Auto</td>\n",
       "      <td>Automotive &amp; Sports</td>\n",
       "    </tr>\n",
       "    <tr>\n",
       "      <th>46</th>\n",
       "      <td>Automated Kiosk</td>\n",
       "      <td>Automotive &amp; Sports</td>\n",
       "    </tr>\n",
       "    <tr>\n",
       "      <th>47</th>\n",
       "      <td>Automotive</td>\n",
       "      <td>Automotive &amp; Sports</td>\n",
       "    </tr>\n",
       "    <tr>\n",
       "      <th>...</th>\n",
       "      <td>...</td>\n",
       "      <td>...</td>\n",
       "    </tr>\n",
       "    <tr>\n",
       "      <th>6121</th>\n",
       "      <td>Social Recruiting</td>\n",
       "      <td>Social, Finance, Analytics, Advertising</td>\n",
       "    </tr>\n",
       "    <tr>\n",
       "      <th>6122</th>\n",
       "      <td>Social Television</td>\n",
       "      <td>Social, Finance, Analytics, Advertising</td>\n",
       "    </tr>\n",
       "    <tr>\n",
       "      <th>6123</th>\n",
       "      <td>Social Travel</td>\n",
       "      <td>Social, Finance, Analytics, Advertising</td>\n",
       "    </tr>\n",
       "    <tr>\n",
       "      <th>6134</th>\n",
       "      <td>Stock Exchanges</td>\n",
       "      <td>Social, Finance, Analytics, Advertising</td>\n",
       "    </tr>\n",
       "    <tr>\n",
       "      <th>6167</th>\n",
       "      <td>Venture Capital</td>\n",
       "      <td>Social, Finance, Analytics, Advertising</td>\n",
       "    </tr>\n",
       "  </tbody>\n",
       "</table>\n",
       "<p>688 rows × 2 columns</p>\n",
       "</div>"
      ],
      "text/plain": [
       "          category_list                              Main Sector\n",
       "8      Adventure Travel                      Automotive & Sports\n",
       "14            Aerospace                      Automotive & Sports\n",
       "45                 Auto                      Automotive & Sports\n",
       "46      Automated Kiosk                      Automotive & Sports\n",
       "47           Automotive                      Automotive & Sports\n",
       "...                 ...                                      ...\n",
       "6121  Social Recruiting  Social, Finance, Analytics, Advertising\n",
       "6122  Social Television  Social, Finance, Analytics, Advertising\n",
       "6123      Social Travel  Social, Finance, Analytics, Advertising\n",
       "6134    Stock Exchanges  Social, Finance, Analytics, Advertising\n",
       "6167    Venture Capital  Social, Finance, Analytics, Advertising\n",
       "\n",
       "[688 rows x 2 columns]"
      ]
     },
     "execution_count": 90,
     "metadata": {},
     "output_type": "execute_result"
    }
   ],
   "source": [
    "#Finally df2_long after converting into long format\n",
    "df2_long"
   ]
  },
  {
   "cell_type": "code",
   "execution_count": 91,
   "metadata": {},
   "outputs": [],
   "source": [
    "##From Category list deriving new coloum with name primary sector and dropping category_list\n",
    "master_frame[\"primary_sector\"]=master_frame[\"category_list\"].apply(lambda x : (x.split('|')[0]).lower())\n",
    "master_frame.drop(\"category_list\",inplace=True,axis=1)"
   ]
  },
  {
   "cell_type": "code",
   "execution_count": 92,
   "metadata": {},
   "outputs": [
    {
     "data": {
      "text/html": [
       "<div>\n",
       "<style scoped>\n",
       "    .dataframe tbody tr th:only-of-type {\n",
       "        vertical-align: middle;\n",
       "    }\n",
       "\n",
       "    .dataframe tbody tr th {\n",
       "        vertical-align: top;\n",
       "    }\n",
       "\n",
       "    .dataframe thead th {\n",
       "        text-align: right;\n",
       "    }\n",
       "</style>\n",
       "<table border=\"1\" class=\"dataframe\">\n",
       "  <thead>\n",
       "    <tr style=\"text-align: right;\">\n",
       "      <th></th>\n",
       "      <th>permalink</th>\n",
       "      <th>name</th>\n",
       "      <th>status</th>\n",
       "      <th>country_code</th>\n",
       "      <th>state_code</th>\n",
       "      <th>funding_round_permalink</th>\n",
       "      <th>funding_round_type</th>\n",
       "      <th>funding_round_code</th>\n",
       "      <th>funded_at</th>\n",
       "      <th>raised_amount_usd</th>\n",
       "      <th>primary_sector</th>\n",
       "    </tr>\n",
       "  </thead>\n",
       "  <tbody>\n",
       "    <tr>\n",
       "      <th>0</th>\n",
       "      <td>/organization/-fame</td>\n",
       "      <td>#fame</td>\n",
       "      <td>operating</td>\n",
       "      <td>IND</td>\n",
       "      <td>16</td>\n",
       "      <td>/funding-round/9a01d05418af9f794eebff7ace91f638</td>\n",
       "      <td>venture</td>\n",
       "      <td>B</td>\n",
       "      <td>05-01-2015</td>\n",
       "      <td>10000000.0</td>\n",
       "      <td>media</td>\n",
       "    </tr>\n",
       "    <tr>\n",
       "      <th>1</th>\n",
       "      <td>/organization/-qounter</td>\n",
       "      <td>:Qounter</td>\n",
       "      <td>operating</td>\n",
       "      <td>USA</td>\n",
       "      <td>DE</td>\n",
       "      <td>/funding-round/22dacff496eb7acb2b901dec1dfe5633</td>\n",
       "      <td>venture</td>\n",
       "      <td>A</td>\n",
       "      <td>14-10-2014</td>\n",
       "      <td>5000000.0</td>\n",
       "      <td>application platforms</td>\n",
       "    </tr>\n",
       "    <tr>\n",
       "      <th>2</th>\n",
       "      <td>/organization/-qounter</td>\n",
       "      <td>:Qounter</td>\n",
       "      <td>operating</td>\n",
       "      <td>USA</td>\n",
       "      <td>DE</td>\n",
       "      <td>/funding-round/b44fbb94153f6cdef13083530bb48030</td>\n",
       "      <td>seed</td>\n",
       "      <td>NA</td>\n",
       "      <td>01-03-2014</td>\n",
       "      <td>700000.0</td>\n",
       "      <td>application platforms</td>\n",
       "    </tr>\n",
       "    <tr>\n",
       "      <th>4</th>\n",
       "      <td>/organization/0-6-com</td>\n",
       "      <td>0-6.com</td>\n",
       "      <td>operating</td>\n",
       "      <td>CHN</td>\n",
       "      <td>22</td>\n",
       "      <td>/funding-round/5727accaeaa57461bd22a9bdd945382d</td>\n",
       "      <td>venture</td>\n",
       "      <td>A</td>\n",
       "      <td>19-03-2008</td>\n",
       "      <td>2000000.0</td>\n",
       "      <td>curated web</td>\n",
       "    </tr>\n",
       "    <tr>\n",
       "      <th>5</th>\n",
       "      <td>/organization/004-technologies</td>\n",
       "      <td>004 Technologies</td>\n",
       "      <td>operating</td>\n",
       "      <td>USA</td>\n",
       "      <td>IL</td>\n",
       "      <td>/funding-round/1278dd4e6a37fa4b7d7e06c21b3c1830</td>\n",
       "      <td>venture</td>\n",
       "      <td>NA</td>\n",
       "      <td>24-07-2014</td>\n",
       "      <td>5000000.0</td>\n",
       "      <td>software</td>\n",
       "    </tr>\n",
       "    <tr>\n",
       "      <th>...</th>\n",
       "      <td>...</td>\n",
       "      <td>...</td>\n",
       "      <td>...</td>\n",
       "      <td>...</td>\n",
       "      <td>...</td>\n",
       "      <td>...</td>\n",
       "      <td>...</td>\n",
       "      <td>...</td>\n",
       "      <td>...</td>\n",
       "      <td>...</td>\n",
       "      <td>...</td>\n",
       "    </tr>\n",
       "    <tr>\n",
       "      <th>114935</th>\n",
       "      <td>/organization/zzzzapp-com</td>\n",
       "      <td>Zzzzapp Wireless ltd.</td>\n",
       "      <td>operating</td>\n",
       "      <td>HRV</td>\n",
       "      <td>15</td>\n",
       "      <td>/funding-round/22ef2fafb4d20ac3aa4b86143dbf6c8e</td>\n",
       "      <td>seed</td>\n",
       "      <td>NA</td>\n",
       "      <td>01-11-2011</td>\n",
       "      <td>7000.0</td>\n",
       "      <td>advertising</td>\n",
       "    </tr>\n",
       "    <tr>\n",
       "      <th>114936</th>\n",
       "      <td>/organization/zzzzapp-com</td>\n",
       "      <td>Zzzzapp Wireless ltd.</td>\n",
       "      <td>operating</td>\n",
       "      <td>HRV</td>\n",
       "      <td>15</td>\n",
       "      <td>/funding-round/6ba41360588bc6e3f77e9b50a0ebfafa</td>\n",
       "      <td>seed</td>\n",
       "      <td>NA</td>\n",
       "      <td>01-08-2013</td>\n",
       "      <td>33149.0</td>\n",
       "      <td>advertising</td>\n",
       "    </tr>\n",
       "    <tr>\n",
       "      <th>114937</th>\n",
       "      <td>/organization/zzzzapp-com</td>\n",
       "      <td>Zzzzapp Wireless ltd.</td>\n",
       "      <td>operating</td>\n",
       "      <td>HRV</td>\n",
       "      <td>15</td>\n",
       "      <td>/funding-round/8f6d25b8ee4199e586484d817bceda05</td>\n",
       "      <td>convertible_note</td>\n",
       "      <td>NA</td>\n",
       "      <td>01-03-2014</td>\n",
       "      <td>41313.0</td>\n",
       "      <td>advertising</td>\n",
       "    </tr>\n",
       "    <tr>\n",
       "      <th>114938</th>\n",
       "      <td>/organization/zzzzapp-com</td>\n",
       "      <td>Zzzzapp Wireless ltd.</td>\n",
       "      <td>operating</td>\n",
       "      <td>HRV</td>\n",
       "      <td>15</td>\n",
       "      <td>/funding-round/ff1aa06ed5da186c84f101549035d4ae</td>\n",
       "      <td>seed</td>\n",
       "      <td>NA</td>\n",
       "      <td>01-05-2013</td>\n",
       "      <td>32842.0</td>\n",
       "      <td>advertising</td>\n",
       "    </tr>\n",
       "    <tr>\n",
       "      <th>114940</th>\n",
       "      <td>/organization/ãasys-2</td>\n",
       "      <td>Ãasys</td>\n",
       "      <td>operating</td>\n",
       "      <td>USA</td>\n",
       "      <td>CA</td>\n",
       "      <td>/funding-round/35f09d0794651719b02bbfd859ba9ff5</td>\n",
       "      <td>seed</td>\n",
       "      <td>NA</td>\n",
       "      <td>01-01-2015</td>\n",
       "      <td>18192.0</td>\n",
       "      <td>consumer electronics</td>\n",
       "    </tr>\n",
       "  </tbody>\n",
       "</table>\n",
       "<p>104532 rows × 11 columns</p>\n",
       "</div>"
      ],
      "text/plain": [
       "                             permalink                   name     status  \\\n",
       "0                  /organization/-fame                  #fame  operating   \n",
       "1               /organization/-qounter               :Qounter  operating   \n",
       "2               /organization/-qounter               :Qounter  operating   \n",
       "4                /organization/0-6-com                0-6.com  operating   \n",
       "5       /organization/004-technologies       004 Technologies  operating   \n",
       "...                                ...                    ...        ...   \n",
       "114935       /organization/zzzzapp-com  Zzzzapp Wireless ltd.  operating   \n",
       "114936       /organization/zzzzapp-com  Zzzzapp Wireless ltd.  operating   \n",
       "114937       /organization/zzzzapp-com  Zzzzapp Wireless ltd.  operating   \n",
       "114938       /organization/zzzzapp-com  Zzzzapp Wireless ltd.  operating   \n",
       "114940          /organization/ãasys-2                 Ãasys  operating   \n",
       "\n",
       "       country_code state_code  \\\n",
       "0               IND         16   \n",
       "1               USA         DE   \n",
       "2               USA         DE   \n",
       "4               CHN         22   \n",
       "5               USA         IL   \n",
       "...             ...        ...   \n",
       "114935          HRV         15   \n",
       "114936          HRV         15   \n",
       "114937          HRV         15   \n",
       "114938          HRV         15   \n",
       "114940          USA         CA   \n",
       "\n",
       "                                funding_round_permalink funding_round_type  \\\n",
       "0       /funding-round/9a01d05418af9f794eebff7ace91f638            venture   \n",
       "1       /funding-round/22dacff496eb7acb2b901dec1dfe5633            venture   \n",
       "2       /funding-round/b44fbb94153f6cdef13083530bb48030               seed   \n",
       "4       /funding-round/5727accaeaa57461bd22a9bdd945382d            venture   \n",
       "5       /funding-round/1278dd4e6a37fa4b7d7e06c21b3c1830            venture   \n",
       "...                                                 ...                ...   \n",
       "114935  /funding-round/22ef2fafb4d20ac3aa4b86143dbf6c8e               seed   \n",
       "114936  /funding-round/6ba41360588bc6e3f77e9b50a0ebfafa               seed   \n",
       "114937  /funding-round/8f6d25b8ee4199e586484d817bceda05   convertible_note   \n",
       "114938  /funding-round/ff1aa06ed5da186c84f101549035d4ae               seed   \n",
       "114940  /funding-round/35f09d0794651719b02bbfd859ba9ff5               seed   \n",
       "\n",
       "       funding_round_code   funded_at  raised_amount_usd  \\\n",
       "0                       B  05-01-2015         10000000.0   \n",
       "1                       A  14-10-2014          5000000.0   \n",
       "2                      NA  01-03-2014           700000.0   \n",
       "4                       A  19-03-2008          2000000.0   \n",
       "5                      NA  24-07-2014          5000000.0   \n",
       "...                   ...         ...                ...   \n",
       "114935                 NA  01-11-2011             7000.0   \n",
       "114936                 NA  01-08-2013            33149.0   \n",
       "114937                 NA  01-03-2014            41313.0   \n",
       "114938                 NA  01-05-2013            32842.0   \n",
       "114940                 NA  01-01-2015            18192.0   \n",
       "\n",
       "               primary_sector  \n",
       "0                       media  \n",
       "1       application platforms  \n",
       "2       application platforms  \n",
       "4                 curated web  \n",
       "5                    software  \n",
       "...                       ...  \n",
       "114935            advertising  \n",
       "114936            advertising  \n",
       "114937            advertising  \n",
       "114938            advertising  \n",
       "114940   consumer electronics  \n",
       "\n",
       "[104532 rows x 11 columns]"
      ]
     },
     "execution_count": 92,
     "metadata": {},
     "output_type": "execute_result"
    }
   ],
   "source": [
    "master_frame"
   ]
  },
  {
   "cell_type": "code",
   "execution_count": 93,
   "metadata": {},
   "outputs": [
    {
     "data": {
      "text/plain": [
       "biotechnology        10176\n",
       "software              6643\n",
       "advertising           4617\n",
       "e-commerce            4454\n",
       "analytics             3460\n",
       "                     ...  \n",
       "sponsorship              1\n",
       "fmcg                     1\n",
       "funeral industry         1\n",
       "tutoring                 1\n",
       "micro-enterprises        1\n",
       "Name: primary_sector, Length: 721, dtype: int64"
      ]
     },
     "execution_count": 93,
     "metadata": {},
     "output_type": "execute_result"
    }
   ],
   "source": [
    "#Checking value counts \n",
    "master_frame[\"primary_sector\"].value_counts()"
   ]
  },
  {
   "cell_type": "code",
   "execution_count": 94,
   "metadata": {},
   "outputs": [
    {
     "data": {
      "text/plain": [
       "category_list    1\n",
       "Main Sector      0\n",
       "dtype: int64"
      ]
     },
     "execution_count": 94,
     "metadata": {},
     "output_type": "execute_result"
    }
   ],
   "source": [
    "\n",
    "df2_long.isna().sum()"
   ]
  },
  {
   "cell_type": "code",
   "execution_count": 95,
   "metadata": {},
   "outputs": [],
   "source": [
    "## There is one Blank category with missing values \n",
    "df2_long=df2_long[~df2_long[\"category_list\"].isna()]"
   ]
  },
  {
   "cell_type": "code",
   "execution_count": 96,
   "metadata": {},
   "outputs": [],
   "source": [
    "##Converting cateogry_list as smallcase\n",
    "df2_long[\"category_list\"]=df2_long[\"category_list\"].apply(lambda x : x.lower())"
   ]
  },
  {
   "cell_type": "code",
   "execution_count": 97,
   "metadata": {},
   "outputs": [
    {
     "data": {
      "text/html": [
       "<div>\n",
       "<style scoped>\n",
       "    .dataframe tbody tr th:only-of-type {\n",
       "        vertical-align: middle;\n",
       "    }\n",
       "\n",
       "    .dataframe tbody tr th {\n",
       "        vertical-align: top;\n",
       "    }\n",
       "\n",
       "    .dataframe thead th {\n",
       "        text-align: right;\n",
       "    }\n",
       "</style>\n",
       "<table border=\"1\" class=\"dataframe\">\n",
       "  <thead>\n",
       "    <tr style=\"text-align: right;\">\n",
       "      <th></th>\n",
       "      <th>category_list</th>\n",
       "      <th>Main Sector</th>\n",
       "    </tr>\n",
       "  </thead>\n",
       "  <tbody>\n",
       "    <tr>\n",
       "      <th>8</th>\n",
       "      <td>adventure travel</td>\n",
       "      <td>Automotive &amp; Sports</td>\n",
       "    </tr>\n",
       "    <tr>\n",
       "      <th>14</th>\n",
       "      <td>aerospace</td>\n",
       "      <td>Automotive &amp; Sports</td>\n",
       "    </tr>\n",
       "    <tr>\n",
       "      <th>45</th>\n",
       "      <td>auto</td>\n",
       "      <td>Automotive &amp; Sports</td>\n",
       "    </tr>\n",
       "    <tr>\n",
       "      <th>46</th>\n",
       "      <td>automated kiosk</td>\n",
       "      <td>Automotive &amp; Sports</td>\n",
       "    </tr>\n",
       "    <tr>\n",
       "      <th>47</th>\n",
       "      <td>automotive</td>\n",
       "      <td>Automotive &amp; Sports</td>\n",
       "    </tr>\n",
       "    <tr>\n",
       "      <th>...</th>\n",
       "      <td>...</td>\n",
       "      <td>...</td>\n",
       "    </tr>\n",
       "    <tr>\n",
       "      <th>6121</th>\n",
       "      <td>social recruiting</td>\n",
       "      <td>Social, Finance, Analytics, Advertising</td>\n",
       "    </tr>\n",
       "    <tr>\n",
       "      <th>6122</th>\n",
       "      <td>social television</td>\n",
       "      <td>Social, Finance, Analytics, Advertising</td>\n",
       "    </tr>\n",
       "    <tr>\n",
       "      <th>6123</th>\n",
       "      <td>social travel</td>\n",
       "      <td>Social, Finance, Analytics, Advertising</td>\n",
       "    </tr>\n",
       "    <tr>\n",
       "      <th>6134</th>\n",
       "      <td>stock exchanges</td>\n",
       "      <td>Social, Finance, Analytics, Advertising</td>\n",
       "    </tr>\n",
       "    <tr>\n",
       "      <th>6167</th>\n",
       "      <td>venture capital</td>\n",
       "      <td>Social, Finance, Analytics, Advertising</td>\n",
       "    </tr>\n",
       "  </tbody>\n",
       "</table>\n",
       "<p>687 rows × 2 columns</p>\n",
       "</div>"
      ],
      "text/plain": [
       "          category_list                              Main Sector\n",
       "8      adventure travel                      Automotive & Sports\n",
       "14            aerospace                      Automotive & Sports\n",
       "45                 auto                      Automotive & Sports\n",
       "46      automated kiosk                      Automotive & Sports\n",
       "47           automotive                      Automotive & Sports\n",
       "...                 ...                                      ...\n",
       "6121  social recruiting  Social, Finance, Analytics, Advertising\n",
       "6122  social television  Social, Finance, Analytics, Advertising\n",
       "6123      social travel  Social, Finance, Analytics, Advertising\n",
       "6134    stock exchanges  Social, Finance, Analytics, Advertising\n",
       "6167    venture capital  Social, Finance, Analytics, Advertising\n",
       "\n",
       "[687 rows x 2 columns]"
      ]
     },
     "execution_count": 97,
     "metadata": {},
     "output_type": "execute_result"
    }
   ],
   "source": [
    "df2_long"
   ]
  },
  {
   "cell_type": "code",
   "execution_count": 98,
   "metadata": {},
   "outputs": [
    {
     "data": {
      "text/plain": [
       "Others                                     195\n",
       "Social, Finance, Analytics, Advertising    153\n",
       "Entertainment                               89\n",
       "News, Search and Messaging                  72\n",
       "Health                                      63\n",
       "Cleantech / Semiconductors                  53\n",
       "Manufacturing                               40\n",
       "Automotive & Sports                         22\n",
       "Name: Main Sector, dtype: int64"
      ]
     },
     "execution_count": 98,
     "metadata": {},
     "output_type": "execute_result"
    }
   ],
   "source": [
    "##Main Sectore has total 8 values \n",
    "df2_long[\"Main Sector\"].value_counts()"
   ]
  },
  {
   "cell_type": "code",
   "execution_count": 99,
   "metadata": {},
   "outputs": [],
   "source": [
    "##Merging master frame with sector mapping \n",
    "master_frame_sector=pd.merge(master_frame,df2_long,how=\"inner\",left_on=\"primary_sector\",right_on=\"category_list\")"
   ]
  },
  {
   "cell_type": "code",
   "execution_count": 100,
   "metadata": {},
   "outputs": [
    {
     "data": {
      "text/plain": [
       "(96812, 13)"
      ]
     },
     "execution_count": 100,
     "metadata": {},
     "output_type": "execute_result"
    }
   ],
   "source": [
    "master_frame_sector.shape"
   ]
  },
  {
   "cell_type": "code",
   "execution_count": 101,
   "metadata": {},
   "outputs": [
    {
     "data": {
      "text/html": [
       "<div>\n",
       "<style scoped>\n",
       "    .dataframe tbody tr th:only-of-type {\n",
       "        vertical-align: middle;\n",
       "    }\n",
       "\n",
       "    .dataframe tbody tr th {\n",
       "        vertical-align: top;\n",
       "    }\n",
       "\n",
       "    .dataframe thead th {\n",
       "        text-align: right;\n",
       "    }\n",
       "</style>\n",
       "<table border=\"1\" class=\"dataframe\">\n",
       "  <thead>\n",
       "    <tr style=\"text-align: right;\">\n",
       "      <th></th>\n",
       "      <th>permalink</th>\n",
       "      <th>name</th>\n",
       "      <th>status</th>\n",
       "      <th>country_code</th>\n",
       "      <th>state_code</th>\n",
       "      <th>funding_round_permalink</th>\n",
       "      <th>funding_round_type</th>\n",
       "      <th>funding_round_code</th>\n",
       "      <th>funded_at</th>\n",
       "      <th>raised_amount_usd</th>\n",
       "      <th>primary_sector</th>\n",
       "      <th>category_list</th>\n",
       "      <th>Main Sector</th>\n",
       "    </tr>\n",
       "  </thead>\n",
       "  <tbody>\n",
       "    <tr>\n",
       "      <th>0</th>\n",
       "      <td>/organization/-fame</td>\n",
       "      <td>#fame</td>\n",
       "      <td>operating</td>\n",
       "      <td>IND</td>\n",
       "      <td>16</td>\n",
       "      <td>/funding-round/9a01d05418af9f794eebff7ace91f638</td>\n",
       "      <td>venture</td>\n",
       "      <td>B</td>\n",
       "      <td>05-01-2015</td>\n",
       "      <td>10000000.0</td>\n",
       "      <td>media</td>\n",
       "      <td>media</td>\n",
       "      <td>Entertainment</td>\n",
       "    </tr>\n",
       "    <tr>\n",
       "      <th>1</th>\n",
       "      <td>/organization/90min</td>\n",
       "      <td>90min</td>\n",
       "      <td>operating</td>\n",
       "      <td>GBR</td>\n",
       "      <td>H9</td>\n",
       "      <td>/funding-round/21a2cbf6f2fb2a1c2a61e04bf930dfe6</td>\n",
       "      <td>venture</td>\n",
       "      <td>NA</td>\n",
       "      <td>06-10-2015</td>\n",
       "      <td>15000000.0</td>\n",
       "      <td>media</td>\n",
       "      <td>media</td>\n",
       "      <td>Entertainment</td>\n",
       "    </tr>\n",
       "    <tr>\n",
       "      <th>2</th>\n",
       "      <td>/organization/90min</td>\n",
       "      <td>90min</td>\n",
       "      <td>operating</td>\n",
       "      <td>GBR</td>\n",
       "      <td>H9</td>\n",
       "      <td>/funding-round/bd626ed022f5c66574b1afe234f3c90d</td>\n",
       "      <td>venture</td>\n",
       "      <td>NA</td>\n",
       "      <td>07-05-2013</td>\n",
       "      <td>5800000.0</td>\n",
       "      <td>media</td>\n",
       "      <td>media</td>\n",
       "      <td>Entertainment</td>\n",
       "    </tr>\n",
       "    <tr>\n",
       "      <th>3</th>\n",
       "      <td>/organization/90min</td>\n",
       "      <td>90min</td>\n",
       "      <td>operating</td>\n",
       "      <td>GBR</td>\n",
       "      <td>H9</td>\n",
       "      <td>/funding-round/fd4b15e8c97ee2ffc0acccdbe1a98810</td>\n",
       "      <td>venture</td>\n",
       "      <td>NA</td>\n",
       "      <td>26-03-2014</td>\n",
       "      <td>18000000.0</td>\n",
       "      <td>media</td>\n",
       "      <td>media</td>\n",
       "      <td>Entertainment</td>\n",
       "    </tr>\n",
       "    <tr>\n",
       "      <th>4</th>\n",
       "      <td>/organization/a-b-productions</td>\n",
       "      <td>A.B Productions</td>\n",
       "      <td>operating</td>\n",
       "      <td>USA</td>\n",
       "      <td>CA</td>\n",
       "      <td>/funding-round/23bab180ab73f0dcc3f555bebdf89ade</td>\n",
       "      <td>debt_financing</td>\n",
       "      <td>NA</td>\n",
       "      <td>21-01-2014</td>\n",
       "      <td>1100000.0</td>\n",
       "      <td>media</td>\n",
       "      <td>media</td>\n",
       "      <td>Entertainment</td>\n",
       "    </tr>\n",
       "    <tr>\n",
       "      <th>...</th>\n",
       "      <td>...</td>\n",
       "      <td>...</td>\n",
       "      <td>...</td>\n",
       "      <td>...</td>\n",
       "      <td>...</td>\n",
       "      <td>...</td>\n",
       "      <td>...</td>\n",
       "      <td>...</td>\n",
       "      <td>...</td>\n",
       "      <td>...</td>\n",
       "      <td>...</td>\n",
       "      <td>...</td>\n",
       "      <td>...</td>\n",
       "    </tr>\n",
       "    <tr>\n",
       "      <th>96807</th>\n",
       "      <td>/organization/wing-ma-am</td>\n",
       "      <td>Wing Ma'am</td>\n",
       "      <td>operating</td>\n",
       "      <td>USA</td>\n",
       "      <td>PA</td>\n",
       "      <td>/funding-round/017fef93620f71e5b884435972b440e8</td>\n",
       "      <td>seed</td>\n",
       "      <td>NA</td>\n",
       "      <td>17-04-2014</td>\n",
       "      <td>300000.0</td>\n",
       "      <td>gay &amp; lesbian</td>\n",
       "      <td>gay &amp; lesbian</td>\n",
       "      <td>Others</td>\n",
       "    </tr>\n",
       "    <tr>\n",
       "      <th>96808</th>\n",
       "      <td>/organization/wing-ma-am</td>\n",
       "      <td>Wing Ma'am</td>\n",
       "      <td>operating</td>\n",
       "      <td>USA</td>\n",
       "      <td>PA</td>\n",
       "      <td>/funding-round/13d72bd46f529ee00ff699254d9d1c16</td>\n",
       "      <td>seed</td>\n",
       "      <td>NA</td>\n",
       "      <td>09-06-2013</td>\n",
       "      <td>25000.0</td>\n",
       "      <td>gay &amp; lesbian</td>\n",
       "      <td>gay &amp; lesbian</td>\n",
       "      <td>Others</td>\n",
       "    </tr>\n",
       "    <tr>\n",
       "      <th>96809</th>\n",
       "      <td>/organization/wiselike</td>\n",
       "      <td>Wiselike</td>\n",
       "      <td>operating</td>\n",
       "      <td>USA</td>\n",
       "      <td>CA</td>\n",
       "      <td>/funding-round/e313727defb87ca1dcb8ec9f6d091e47</td>\n",
       "      <td>seed</td>\n",
       "      <td>NA</td>\n",
       "      <td>31-08-2015</td>\n",
       "      <td>1250000.0</td>\n",
       "      <td>q&amp;a</td>\n",
       "      <td>q&amp;a</td>\n",
       "      <td>News, Search and Messaging</td>\n",
       "    </tr>\n",
       "    <tr>\n",
       "      <th>96810</th>\n",
       "      <td>/organization/yes-no</td>\n",
       "      <td>yes.no</td>\n",
       "      <td>closed</td>\n",
       "      <td>ISR</td>\n",
       "      <td>5</td>\n",
       "      <td>/funding-round/e51932c2afebd10c5e8c08b94b57bcb7</td>\n",
       "      <td>seed</td>\n",
       "      <td>NA</td>\n",
       "      <td>01-05-2015</td>\n",
       "      <td>1000000.0</td>\n",
       "      <td>q&amp;a</td>\n",
       "      <td>q&amp;a</td>\n",
       "      <td>News, Search and Messaging</td>\n",
       "    </tr>\n",
       "    <tr>\n",
       "      <th>96811</th>\n",
       "      <td>/organization/youcruit</td>\n",
       "      <td>Youcruit</td>\n",
       "      <td>operating</td>\n",
       "      <td>SWE</td>\n",
       "      <td>27</td>\n",
       "      <td>/funding-round/31fe44e42294821ad500ab67cb62e8c3</td>\n",
       "      <td>angel</td>\n",
       "      <td>NA</td>\n",
       "      <td>06-02-2014</td>\n",
       "      <td>447037.0</td>\n",
       "      <td>micro-enterprises</td>\n",
       "      <td>micro-enterprises</td>\n",
       "      <td>Others</td>\n",
       "    </tr>\n",
       "  </tbody>\n",
       "</table>\n",
       "<p>96812 rows × 13 columns</p>\n",
       "</div>"
      ],
      "text/plain": [
       "                           permalink             name     status country_code  \\\n",
       "0                /organization/-fame            #fame  operating          IND   \n",
       "1                /organization/90min            90min  operating          GBR   \n",
       "2                /organization/90min            90min  operating          GBR   \n",
       "3                /organization/90min            90min  operating          GBR   \n",
       "4      /organization/a-b-productions  A.B Productions  operating          USA   \n",
       "...                              ...              ...        ...          ...   \n",
       "96807       /organization/wing-ma-am       Wing Ma'am  operating          USA   \n",
       "96808       /organization/wing-ma-am       Wing Ma'am  operating          USA   \n",
       "96809         /organization/wiselike         Wiselike  operating          USA   \n",
       "96810           /organization/yes-no           yes.no     closed          ISR   \n",
       "96811         /organization/youcruit         Youcruit  operating          SWE   \n",
       "\n",
       "      state_code                          funding_round_permalink  \\\n",
       "0             16  /funding-round/9a01d05418af9f794eebff7ace91f638   \n",
       "1             H9  /funding-round/21a2cbf6f2fb2a1c2a61e04bf930dfe6   \n",
       "2             H9  /funding-round/bd626ed022f5c66574b1afe234f3c90d   \n",
       "3             H9  /funding-round/fd4b15e8c97ee2ffc0acccdbe1a98810   \n",
       "4             CA  /funding-round/23bab180ab73f0dcc3f555bebdf89ade   \n",
       "...          ...                                              ...   \n",
       "96807         PA  /funding-round/017fef93620f71e5b884435972b440e8   \n",
       "96808         PA  /funding-round/13d72bd46f529ee00ff699254d9d1c16   \n",
       "96809         CA  /funding-round/e313727defb87ca1dcb8ec9f6d091e47   \n",
       "96810          5  /funding-round/e51932c2afebd10c5e8c08b94b57bcb7   \n",
       "96811         27  /funding-round/31fe44e42294821ad500ab67cb62e8c3   \n",
       "\n",
       "      funding_round_type funding_round_code   funded_at  raised_amount_usd  \\\n",
       "0                venture                  B  05-01-2015         10000000.0   \n",
       "1                venture                 NA  06-10-2015         15000000.0   \n",
       "2                venture                 NA  07-05-2013          5800000.0   \n",
       "3                venture                 NA  26-03-2014         18000000.0   \n",
       "4         debt_financing                 NA  21-01-2014          1100000.0   \n",
       "...                  ...                ...         ...                ...   \n",
       "96807               seed                 NA  17-04-2014           300000.0   \n",
       "96808               seed                 NA  09-06-2013            25000.0   \n",
       "96809               seed                 NA  31-08-2015          1250000.0   \n",
       "96810               seed                 NA  01-05-2015          1000000.0   \n",
       "96811              angel                 NA  06-02-2014           447037.0   \n",
       "\n",
       "          primary_sector      category_list                 Main Sector  \n",
       "0                  media              media               Entertainment  \n",
       "1                  media              media               Entertainment  \n",
       "2                  media              media               Entertainment  \n",
       "3                  media              media               Entertainment  \n",
       "4                  media              media               Entertainment  \n",
       "...                  ...                ...                         ...  \n",
       "96807      gay & lesbian      gay & lesbian                      Others  \n",
       "96808      gay & lesbian      gay & lesbian                      Others  \n",
       "96809                q&a                q&a  News, Search and Messaging  \n",
       "96810                q&a                q&a  News, Search and Messaging  \n",
       "96811  micro-enterprises  micro-enterprises                      Others  \n",
       "\n",
       "[96812 rows x 13 columns]"
      ]
     },
     "execution_count": 101,
     "metadata": {},
     "output_type": "execute_result"
    }
   ],
   "source": [
    "master_frame_sector"
   ]
  },
  {
   "cell_type": "code",
   "execution_count": 102,
   "metadata": {},
   "outputs": [
    {
     "data": {
      "text/plain": [
       "permalink                  0\n",
       "name                       0\n",
       "status                     0\n",
       "country_code               0\n",
       "state_code                 0\n",
       "funding_round_permalink    0\n",
       "funding_round_type         0\n",
       "funding_round_code         0\n",
       "funded_at                  0\n",
       "raised_amount_usd          0\n",
       "primary_sector             0\n",
       "category_list              0\n",
       "Main Sector                0\n",
       "dtype: int64"
      ]
     },
     "execution_count": 102,
     "metadata": {},
     "output_type": "execute_result"
    }
   ],
   "source": [
    "##No Missing value\n",
    "master_frame_sector.isna().sum()"
   ]
  },
  {
   "cell_type": "code",
   "execution_count": 103,
   "metadata": {},
   "outputs": [],
   "source": [
    "#Removed category list\n",
    "master_frame_sector.drop(\"category_list\",inplace=True,axis=1)"
   ]
  },
  {
   "cell_type": "code",
   "execution_count": 104,
   "metadata": {},
   "outputs": [
    {
     "name": "stdout",
     "output_type": "stream",
     "text": [
      "<class 'pandas.core.frame.DataFrame'>\n",
      "Int64Index: 96812 entries, 0 to 96811\n",
      "Data columns (total 12 columns):\n",
      " #   Column                   Non-Null Count  Dtype  \n",
      "---  ------                   --------------  -----  \n",
      " 0   permalink                96812 non-null  object \n",
      " 1   name                     96812 non-null  object \n",
      " 2   status                   96812 non-null  object \n",
      " 3   country_code             96812 non-null  object \n",
      " 4   state_code               96812 non-null  object \n",
      " 5   funding_round_permalink  96812 non-null  object \n",
      " 6   funding_round_type       96812 non-null  object \n",
      " 7   funding_round_code       96812 non-null  object \n",
      " 8   funded_at                96812 non-null  object \n",
      " 9   raised_amount_usd        96812 non-null  float64\n",
      " 10  primary_sector           96812 non-null  object \n",
      " 11  Main Sector              96812 non-null  object \n",
      "dtypes: float64(1), object(11)\n",
      "memory usage: 9.6+ MB\n"
     ]
    }
   ],
   "source": [
    "master_frame_sector.info()"
   ]
  },
  {
   "cell_type": "markdown",
   "metadata": {},
   "source": [
    "## Checkpoint 5: Sector Analysis 2"
   ]
  },
  {
   "cell_type": "code",
   "execution_count": 105,
   "metadata": {},
   "outputs": [],
   "source": [
    "## Funding Type=Venture \n",
    "## raised_amount_usd : 5000000 to 15000000\n",
    "## Top Three counteries : USA,GBP IND,\n",
    "D1=master_frame_sector[(master_frame_sector[\"country_code\"]==\"USA\") & (master_frame_sector[\"funding_round_type\"]==\"venture\") & ((master_frame_sector[\"raised_amount_usd\"] >=5000000.00) &  (master_frame_sector[\"raised_amount_usd\"] <=15000000.00))]\n",
    "D2=master_frame_sector[(master_frame_sector[\"country_code\"]==\"GBR\") & (master_frame_sector[\"funding_round_type\"]==\"venture\") & ((master_frame_sector[\"raised_amount_usd\"] >=5000000.00) &  (master_frame_sector[\"raised_amount_usd\"] <=15000000.00))]\n",
    "D3=master_frame_sector[(master_frame_sector[\"country_code\"]==\"IND\") & (master_frame_sector[\"funding_round_type\"]==\"venture\") & ((master_frame_sector[\"raised_amount_usd\"] >=5000000.00) &  (master_frame_sector[\"raised_amount_usd\"] <=15000000.00))]\n"
   ]
  },
  {
   "cell_type": "code",
   "execution_count": 106,
   "metadata": {},
   "outputs": [
    {
     "name": "stdout",
     "output_type": "stream",
     "text": [
      "(13044, 12)\n",
      "(781, 12)\n",
      "(444, 12)\n"
     ]
    }
   ],
   "source": [
    "print(D1.shape)\n",
    "print(D2.shape)\n",
    "print(D3.shape)"
   ]
  },
  {
   "cell_type": "markdown",
   "metadata": {},
   "source": [
    "### Calculating raised amount for all three counteries "
   ]
  },
  {
   "cell_type": "code",
   "execution_count": 107,
   "metadata": {},
   "outputs": [
    {
     "data": {
      "text/plain": [
       "country_code\n",
       "USA    109136524549.000000\n",
       "Name: raised_amount_usd, dtype: object"
      ]
     },
     "execution_count": 107,
     "metadata": {},
     "output_type": "execute_result"
    }
   ],
   "source": [
    "pd.pivot_table(D1,values=\"raised_amount_usd\",index=\"country_code\",aggfunc=np.sum)[\"raised_amount_usd\"].apply(lambda x: format(x, 'f'))"
   ]
  },
  {
   "cell_type": "code",
   "execution_count": 108,
   "metadata": {},
   "outputs": [
    {
     "data": {
      "text/plain": [
       "country_code\n",
       "GBR    6048704358.000000\n",
       "Name: raised_amount_usd, dtype: object"
      ]
     },
     "execution_count": 108,
     "metadata": {},
     "output_type": "execute_result"
    }
   ],
   "source": [
    "pd.pivot_table(D2,values=\"raised_amount_usd\",index=\"country_code\",aggfunc=np.sum)[\"raised_amount_usd\"].apply(lambda x: format(x, 'f'))"
   ]
  },
  {
   "cell_type": "code",
   "execution_count": 109,
   "metadata": {},
   "outputs": [
    {
     "data": {
      "text/plain": [
       "country_code\n",
       "IND    3408537552.000000\n",
       "Name: raised_amount_usd, dtype: object"
      ]
     },
     "execution_count": 109,
     "metadata": {},
     "output_type": "execute_result"
    }
   ],
   "source": [
    "pd.pivot_table(D3,values=\"raised_amount_usd\",index=\"country_code\",aggfunc=np.sum)[\"raised_amount_usd\"].apply(lambda x: format(x, 'f'))"
   ]
  },
  {
   "cell_type": "markdown",
   "metadata": {},
   "source": [
    "### Calculating Sector wise investment for all three counteries "
   ]
  },
  {
   "cell_type": "code",
   "execution_count": 110,
   "metadata": {},
   "outputs": [
    {
     "data": {
      "text/plain": [
       "Others                                     3373\n",
       "Cleantech / Semiconductors                 2561\n",
       "Social, Finance, Analytics, Advertising    2309\n",
       "News, Search and Messaging                 1824\n",
       "Health                                     1048\n",
       "Manufacturing                               989\n",
       "Entertainment                               712\n",
       "Automotive & Sports                         228\n",
       "Name: Main Sector, dtype: int64"
      ]
     },
     "execution_count": 110,
     "metadata": {},
     "output_type": "execute_result"
    }
   ],
   "source": [
    "D1[\"Main Sector\"].value_counts()"
   ]
  },
  {
   "cell_type": "code",
   "execution_count": 111,
   "metadata": {},
   "outputs": [
    {
     "data": {
      "text/plain": [
       "Others                                     207\n",
       "Cleantech / Semiconductors                 150\n",
       "Social, Finance, Analytics, Advertising    139\n",
       "News, Search and Messaging                  97\n",
       "Entertainment                               78\n",
       "Manufacturing                               52\n",
       "Health                                      32\n",
       "Automotive & Sports                         26\n",
       "Name: Main Sector, dtype: int64"
      ]
     },
     "execution_count": 111,
     "metadata": {},
     "output_type": "execute_result"
    }
   ],
   "source": [
    "D2[\"Main Sector\"].value_counts()"
   ]
  },
  {
   "cell_type": "code",
   "execution_count": 112,
   "metadata": {},
   "outputs": [
    {
     "data": {
      "text/plain": [
       "Others                                     157\n",
       "News, Search and Messaging                  76\n",
       "Social, Finance, Analytics, Advertising     59\n",
       "Entertainment                               46\n",
       "Health                                      33\n",
       "Manufacturing                               30\n",
       "Cleantech / Semiconductors                  29\n",
       "Automotive & Sports                         14\n",
       "Name: Main Sector, dtype: int64"
      ]
     },
     "execution_count": 112,
     "metadata": {},
     "output_type": "execute_result"
    }
   ],
   "source": [
    "D3[\"Main Sector\"].value_counts()"
   ]
  },
  {
   "cell_type": "markdown",
   "metadata": {},
   "source": [
    "### Finding out which company has max investment from main sector wise in each country "
   ]
  },
  {
   "cell_type": "code",
   "execution_count": 129,
   "metadata": {},
   "outputs": [
    {
     "data": {
      "text/plain": [
       "permalink                                             /organization/akorri\n",
       "name                                                       Akorri Networks\n",
       "status                                                            acquired\n",
       "country_code                                                           USA\n",
       "state_code                                                              MA\n",
       "funding_round_permalink    /funding-round/5a9ada593b969a2b814a7f040f22af89\n",
       "funding_round_type                                                 venture\n",
       "funding_round_code                                                       C\n",
       "funded_at                                                       10-09-2007\n",
       "raised_amount_usd                                                  1.5e+07\n",
       "primary_sector                                                    software\n",
       "Main Sector                                                         Others\n",
       "Name: 4254, dtype: object"
      ]
     },
     "execution_count": 129,
     "metadata": {},
     "output_type": "execute_result"
    }
   ],
   "source": [
    "D1.loc[D1[D1[\"Main Sector\"]==\"Others\"][\"raised_amount_usd\"].idxmax(),:]"
   ]
  },
  {
   "cell_type": "code",
   "execution_count": 130,
   "metadata": {},
   "outputs": [
    {
     "data": {
      "text/plain": [
       "permalink                                    /organization/azure-solutions\n",
       "name                                                       Azure Solutions\n",
       "status                                                            acquired\n",
       "country_code                                                           GBR\n",
       "state_code                                                              H9\n",
       "funding_round_permalink    /funding-round/adb99f479490e33281ab358ba9da2b29\n",
       "funding_round_type                                                 venture\n",
       "funding_round_code                                                      NA\n",
       "funded_at                                                       16-06-2005\n",
       "raised_amount_usd                                                  1.5e+07\n",
       "primary_sector                                                    software\n",
       "Main Sector                                                         Others\n",
       "Name: 4602, dtype: object"
      ]
     },
     "execution_count": 130,
     "metadata": {},
     "output_type": "execute_result"
    }
   ],
   "source": [
    "D2.loc[D2[D2[\"Main Sector\"]==\"Others\"][\"raised_amount_usd\"].idxmax(),:]"
   ]
  },
  {
   "cell_type": "code",
   "execution_count": 134,
   "metadata": {},
   "outputs": [
    {
     "data": {
      "text/plain": [
       "permalink                                          /organization/caratlane\n",
       "name                                                             CaratLane\n",
       "status                                                           operating\n",
       "country_code                                                           IND\n",
       "state_code                                                              25\n",
       "funding_round_permalink    /funding-round/ead9f057edb0d007c54f76e5cf5f2375\n",
       "funding_round_type                                                 venture\n",
       "funding_round_code                                                       C\n",
       "funded_at                                                       13-05-2013\n",
       "raised_amount_usd                                                  1.5e+07\n",
       "primary_sector                                                  e-commerce\n",
       "Main Sector                                                         Others\n",
       "Name: 26509, dtype: object"
      ]
     },
     "execution_count": 134,
     "metadata": {},
     "output_type": "execute_result"
    }
   ],
   "source": [
    "D3.loc[D3[D3[\"Main Sector\"]==\"Others\"][\"raised_amount_usd\"].idxmax(),:]"
   ]
  },
  {
   "cell_type": "code",
   "execution_count": 133,
   "metadata": {},
   "outputs": [
    {
     "data": {
      "text/plain": [
       "permalink                                     /organization/480-biomedical\n",
       "name                                                        480 Biomedical\n",
       "status                                                           operating\n",
       "country_code                                                           USA\n",
       "state_code                                                              MA\n",
       "funding_round_permalink    /funding-round/23d30096c6c31691dff8ff1b782eeba2\n",
       "funding_round_type                                                 venture\n",
       "funding_round_code                                                       A\n",
       "funded_at                                                       14-02-2012\n",
       "raised_amount_usd                                                  1.5e+07\n",
       "primary_sector                                               biotechnology\n",
       "Main Sector                                     Cleantech / Semiconductors\n",
       "Name: 12611, dtype: object"
      ]
     },
     "execution_count": 133,
     "metadata": {},
     "output_type": "execute_result"
    }
   ],
   "source": [
    "D1.loc[D1[D1[\"Main Sector\"]==\"Cleantech / Semiconductors\"][\"raised_amount_usd\"].idxmax(),:]"
   ]
  },
  {
   "cell_type": "code",
   "execution_count": 135,
   "metadata": {},
   "outputs": [
    {
     "data": {
      "text/plain": [
       "permalink                                            /organization/anadigm\n",
       "name                                                               Anadigm\n",
       "status                                                              closed\n",
       "country_code                                                           GBR\n",
       "state_code                                                              Z7\n",
       "funding_round_permalink    /funding-round/d66a723ef94efb39e450f62b6df312c4\n",
       "funding_round_type                                                 venture\n",
       "funding_round_code                                                       C\n",
       "funded_at                                                       02-10-2003\n",
       "raised_amount_usd                                                  1.5e+07\n",
       "primary_sector                                              semiconductors\n",
       "Main Sector                                     Cleantech / Semiconductors\n",
       "Name: 73830, dtype: object"
      ]
     },
     "execution_count": 135,
     "metadata": {},
     "output_type": "execute_result"
    }
   ],
   "source": [
    "D2.loc[D2[D2[\"Main Sector\"]==\"Cleantech / Semiconductors\"][\"raised_amount_usd\"].idxmax(),:]"
   ]
  },
  {
   "cell_type": "code",
   "execution_count": 118,
   "metadata": {},
   "outputs": [
    {
     "data": {
      "text/plain": [
       "permalink                                   /organization/mobile2win-india\n",
       "name                                                      Mobile2Win India\n",
       "status                                                           operating\n",
       "country_code                                                           IND\n",
       "state_code                                                              16\n",
       "funding_round_permalink    /funding-round/50396c66ef239f1d5afea76ca98a76c4\n",
       "funding_round_type                                                 venture\n",
       "funding_round_code                                                      NA\n",
       "funded_at                                                       13-11-2006\n",
       "raised_amount_usd                                                  1.5e+07\n",
       "primary_sector                                                      mobile\n",
       "Main Sector                                     News, Search and Messaging\n",
       "Name: 24357, dtype: object"
      ]
     },
     "execution_count": 118,
     "metadata": {},
     "output_type": "execute_result"
    }
   ],
   "source": [
    "D3.loc[D3[D3[\"Main Sector\"]==\"News, Search and Messaging\"][\"raised_amount_usd\"].idxmax(),:]"
   ]
  },
  {
   "cell_type": "markdown",
   "metadata": {},
   "source": [
    "## Checkpoint 6: Plots"
   ]
  },
  {
   "cell_type": "code",
   "execution_count": 119,
   "metadata": {},
   "outputs": [
    {
     "data": {
      "text/plain": [
       "<matplotlib.axes._subplots.AxesSubplot at 0x7f8e01de80d0>"
      ]
     },
     "execution_count": 119,
     "metadata": {},
     "output_type": "execute_result"
    },
    {
     "data": {
      "image/png": "[encoded data removed]",
      "text/plain": [
       "<Figure size 1080x1080 with 1 Axes>"
      ]
     },
     "metadata": {
      "needs_background": "light"
     },
     "output_type": "display_data"
    }
   ],
   "source": [
    "\n",
    "a4_dims = (15, 15)\n",
    "fig, ax = plt.subplots(figsize=a4_dims)\n",
    "sns.boxplot(data=master_frame,x=\"funding_round_type\",y=\"raised_amount_usd\")\n"
   ]
  },
  {
   "cell_type": "code",
   "execution_count": 120,
   "metadata": {},
   "outputs": [],
   "source": [
    "master_frame1=master_frame[master_frame[\"raised_amount_usd\"] < 50000000]\n",
    "master_frame1=master_frame1[master_frame1[\"funding_round_type\"].apply( lambda x : x in [\"venture\",\"angel\",\"seed\",\"private_equity\"])]"
   ]
  },
  {
   "cell_type": "code",
   "execution_count": 142,
   "metadata": {
    "scrolled": false
   },
   "outputs": [
    {
     "data": {
      "text/plain": [
       "<matplotlib.axes._subplots.AxesSubplot at 0x7f8e0622baf0>"
      ]
     },
     "execution_count": 142,
     "metadata": {},
     "output_type": "execute_result"
    },
    {
     "data": {
      "image/png": "[encoded data removed]",
      "text/plain": [
       "<Figure size 1080x720 with 1 Axes>"
      ]
     },
     "metadata": {
      "needs_background": "light"
     },
     "output_type": "display_data"
    }
   ],
   "source": [
    "#Plot representing the raised amount for funding round type \n",
    "a4_dims = (15, 10)\n",
    "fig, ax = plt.subplots(figsize=a4_dims)\n",
    "sns.boxplot(data=master_frame1,x=\"funding_round_type\",y=\"raised_amount_usd\")\n"
   ]
  },
  {
   "cell_type": "code",
   "execution_count": 122,
   "metadata": {},
   "outputs": [
    {
     "data": {
      "text/html": [
       "<div>\n",
       "<style scoped>\n",
       "    .dataframe tbody tr th:only-of-type {\n",
       "        vertical-align: middle;\n",
       "    }\n",
       "\n",
       "    .dataframe tbody tr th {\n",
       "        vertical-align: top;\n",
       "    }\n",
       "\n",
       "    .dataframe thead th {\n",
       "        text-align: right;\n",
       "    }\n",
       "</style>\n",
       "<table border=\"1\" class=\"dataframe\">\n",
       "  <thead>\n",
       "    <tr style=\"text-align: right;\">\n",
       "      <th>funding_round_type</th>\n",
       "      <th>venture</th>\n",
       "    </tr>\n",
       "    <tr>\n",
       "      <th>country_code</th>\n",
       "      <th></th>\n",
       "    </tr>\n",
       "  </thead>\n",
       "  <tbody>\n",
       "    <tr>\n",
       "      <th>USA</th>\n",
       "      <td>4.305230e+11</td>\n",
       "    </tr>\n",
       "    <tr>\n",
       "      <th>CHN</th>\n",
       "      <td>4.185392e+10</td>\n",
       "    </tr>\n",
       "    <tr>\n",
       "      <th>GBR</th>\n",
       "      <td>2.119281e+10</td>\n",
       "    </tr>\n",
       "    <tr>\n",
       "      <th>IND</th>\n",
       "      <td>1.508651e+10</td>\n",
       "    </tr>\n",
       "    <tr>\n",
       "      <th>CAN</th>\n",
       "      <td>9.907218e+09</td>\n",
       "    </tr>\n",
       "    <tr>\n",
       "      <th>FRA</th>\n",
       "      <td>7.521851e+09</td>\n",
       "    </tr>\n",
       "    <tr>\n",
       "      <th>ISR</th>\n",
       "      <td>7.409350e+09</td>\n",
       "    </tr>\n",
       "    <tr>\n",
       "      <th>DEU</th>\n",
       "      <td>7.401922e+09</td>\n",
       "    </tr>\n",
       "    <tr>\n",
       "      <th>JPN</th>\n",
       "      <td>3.362647e+09</td>\n",
       "    </tr>\n",
       "  </tbody>\n",
       "</table>\n",
       "</div>"
      ],
      "text/plain": [
       "funding_round_type       venture\n",
       "country_code                    \n",
       "USA                 4.305230e+11\n",
       "CHN                 4.185392e+10\n",
       "GBR                 2.119281e+10\n",
       "IND                 1.508651e+10\n",
       "CAN                 9.907218e+09\n",
       "FRA                 7.521851e+09\n",
       "ISR                 7.409350e+09\n",
       "DEU                 7.401922e+09\n",
       "JPN                 3.362647e+09"
      ]
     },
     "execution_count": 122,
     "metadata": {},
     "output_type": "execute_result"
    }
   ],
   "source": [
    "top9"
   ]
  },
  {
   "cell_type": "code",
   "execution_count": 123,
   "metadata": {},
   "outputs": [],
   "source": [
    "top9.reset_index(inplace=True)"
   ]
  },
  {
   "cell_type": "code",
   "execution_count": 124,
   "metadata": {},
   "outputs": [
    {
     "data": {
      "text/html": [
       "<div>\n",
       "<style scoped>\n",
       "    .dataframe tbody tr th:only-of-type {\n",
       "        vertical-align: middle;\n",
       "    }\n",
       "\n",
       "    .dataframe tbody tr th {\n",
       "        vertical-align: top;\n",
       "    }\n",
       "\n",
       "    .dataframe thead th {\n",
       "        text-align: right;\n",
       "    }\n",
       "</style>\n",
       "<table border=\"1\" class=\"dataframe\">\n",
       "  <thead>\n",
       "    <tr style=\"text-align: right;\">\n",
       "      <th>funding_round_type</th>\n",
       "      <th>country_code</th>\n",
       "      <th>venture</th>\n",
       "    </tr>\n",
       "  </thead>\n",
       "  <tbody>\n",
       "    <tr>\n",
       "      <th>0</th>\n",
       "      <td>USA</td>\n",
       "      <td>4.305230e+11</td>\n",
       "    </tr>\n",
       "    <tr>\n",
       "      <th>1</th>\n",
       "      <td>CHN</td>\n",
       "      <td>4.185392e+10</td>\n",
       "    </tr>\n",
       "    <tr>\n",
       "      <th>2</th>\n",
       "      <td>GBR</td>\n",
       "      <td>2.119281e+10</td>\n",
       "    </tr>\n",
       "    <tr>\n",
       "      <th>3</th>\n",
       "      <td>IND</td>\n",
       "      <td>1.508651e+10</td>\n",
       "    </tr>\n",
       "    <tr>\n",
       "      <th>4</th>\n",
       "      <td>CAN</td>\n",
       "      <td>9.907218e+09</td>\n",
       "    </tr>\n",
       "    <tr>\n",
       "      <th>5</th>\n",
       "      <td>FRA</td>\n",
       "      <td>7.521851e+09</td>\n",
       "    </tr>\n",
       "    <tr>\n",
       "      <th>6</th>\n",
       "      <td>ISR</td>\n",
       "      <td>7.409350e+09</td>\n",
       "    </tr>\n",
       "    <tr>\n",
       "      <th>7</th>\n",
       "      <td>DEU</td>\n",
       "      <td>7.401922e+09</td>\n",
       "    </tr>\n",
       "    <tr>\n",
       "      <th>8</th>\n",
       "      <td>JPN</td>\n",
       "      <td>3.362647e+09</td>\n",
       "    </tr>\n",
       "  </tbody>\n",
       "</table>\n",
       "</div>"
      ],
      "text/plain": [
       "funding_round_type country_code       venture\n",
       "0                           USA  4.305230e+11\n",
       "1                           CHN  4.185392e+10\n",
       "2                           GBR  2.119281e+10\n",
       "3                           IND  1.508651e+10\n",
       "4                           CAN  9.907218e+09\n",
       "5                           FRA  7.521851e+09\n",
       "6                           ISR  7.409350e+09\n",
       "7                           DEU  7.401922e+09\n",
       "8                           JPN  3.362647e+09"
      ]
     },
     "execution_count": 124,
     "metadata": {},
     "output_type": "execute_result"
    }
   ],
   "source": [
    "top9"
   ]
  },
  {
   "cell_type": "code",
   "execution_count": 139,
   "metadata": {},
   "outputs": [],
   "source": [
    "top9.rename(columns={\"venture\":\"raised_amount_usd\"},inplace=True)"
   ]
  },
  {
   "cell_type": "code",
   "execution_count": 141,
   "metadata": {},
   "outputs": [
    {
     "data": {
      "text/plain": [
       "<matplotlib.axes._subplots.AxesSubplot at 0x7f8e05d84c70>"
      ]
     },
     "execution_count": 141,
     "metadata": {},
     "output_type": "execute_result"
    },
    {
     "data": {
      "image/png": "[encoded data removed]",
      "text/plain": [
       "<Figure size 864x720 with 1 Axes>"
      ]
     },
     "metadata": {
      "needs_background": "light"
     },
     "output_type": "display_data"
    }
   ],
   "source": [
    "## Plot representing the  raised amount in usd across all the \n",
    "a4_dims = (12, 10)\n",
    "fig, ax = plt.subplots(figsize=a4_dims)\n",
    "sns.barplot(x=top9[\"country_code\"],y=top9[\"raised_amount_usd\"])"
   ]
  },
  {
   "cell_type": "code",
   "execution_count": 136,
   "metadata": {},
   "outputs": [],
   "source": [
    "new_df1=D1[\"Main Sector\"].value_counts().head(3).to_frame().reset_index()\n",
    "new_df1[\"Country\"]=\"USA\"\n",
    "new_df2=D2[\"Main Sector\"].value_counts().head(3).to_frame().reset_index()\n",
    "new_df2[\"Country\"]=\"GBR\"\n",
    "new_df3=D3[\"Main Sector\"].value_counts().head(3).to_frame().reset_index()\n",
    "new_df3[\"Country\"]=\"IND\"\n",
    "final_df=pd.concat([new_df1,new_df2,new_df3])"
   ]
  },
  {
   "cell_type": "code",
   "execution_count": 137,
   "metadata": {},
   "outputs": [
    {
     "data": {
      "text/html": [
       "<div>\n",
       "<style scoped>\n",
       "    .dataframe tbody tr th:only-of-type {\n",
       "        vertical-align: middle;\n",
       "    }\n",
       "\n",
       "    .dataframe tbody tr th {\n",
       "        vertical-align: top;\n",
       "    }\n",
       "\n",
       "    .dataframe thead th {\n",
       "        text-align: right;\n",
       "    }\n",
       "</style>\n",
       "<table border=\"1\" class=\"dataframe\">\n",
       "  <thead>\n",
       "    <tr style=\"text-align: right;\">\n",
       "      <th></th>\n",
       "      <th>Main Sector</th>\n",
       "      <th>Count</th>\n",
       "      <th>Country</th>\n",
       "    </tr>\n",
       "  </thead>\n",
       "  <tbody>\n",
       "    <tr>\n",
       "      <th>0</th>\n",
       "      <td>Others</td>\n",
       "      <td>3373</td>\n",
       "      <td>USA</td>\n",
       "    </tr>\n",
       "    <tr>\n",
       "      <th>1</th>\n",
       "      <td>Cleantech / Semiconductors</td>\n",
       "      <td>2561</td>\n",
       "      <td>USA</td>\n",
       "    </tr>\n",
       "    <tr>\n",
       "      <th>2</th>\n",
       "      <td>Social, Finance, Analytics, Advertising</td>\n",
       "      <td>2309</td>\n",
       "      <td>USA</td>\n",
       "    </tr>\n",
       "    <tr>\n",
       "      <th>0</th>\n",
       "      <td>Others</td>\n",
       "      <td>207</td>\n",
       "      <td>GBR</td>\n",
       "    </tr>\n",
       "    <tr>\n",
       "      <th>1</th>\n",
       "      <td>Cleantech / Semiconductors</td>\n",
       "      <td>150</td>\n",
       "      <td>GBR</td>\n",
       "    </tr>\n",
       "    <tr>\n",
       "      <th>2</th>\n",
       "      <td>Social, Finance, Analytics, Advertising</td>\n",
       "      <td>139</td>\n",
       "      <td>GBR</td>\n",
       "    </tr>\n",
       "    <tr>\n",
       "      <th>0</th>\n",
       "      <td>Others</td>\n",
       "      <td>157</td>\n",
       "      <td>IND</td>\n",
       "    </tr>\n",
       "    <tr>\n",
       "      <th>1</th>\n",
       "      <td>News, Search and Messaging</td>\n",
       "      <td>76</td>\n",
       "      <td>IND</td>\n",
       "    </tr>\n",
       "    <tr>\n",
       "      <th>2</th>\n",
       "      <td>Social, Finance, Analytics, Advertising</td>\n",
       "      <td>59</td>\n",
       "      <td>IND</td>\n",
       "    </tr>\n",
       "  </tbody>\n",
       "</table>\n",
       "</div>"
      ],
      "text/plain": [
       "                               Main Sector  Count Country\n",
       "0                                   Others   3373     USA\n",
       "1               Cleantech / Semiconductors   2561     USA\n",
       "2  Social, Finance, Analytics, Advertising   2309     USA\n",
       "0                                   Others    207     GBR\n",
       "1               Cleantech / Semiconductors    150     GBR\n",
       "2  Social, Finance, Analytics, Advertising    139     GBR\n",
       "0                                   Others    157     IND\n",
       "1               News, Search and Messaging     76     IND\n",
       "2  Social, Finance, Analytics, Advertising     59     IND"
      ]
     },
     "execution_count": 137,
     "metadata": {},
     "output_type": "execute_result"
    }
   ],
   "source": [
    "final_df.rename(columns={\"index\":\"Main Sector\",\"Main Sector\":\"Count\"},inplace=True)\n",
    "final_df"
   ]
  },
  {
   "cell_type": "code",
   "execution_count": 138,
   "metadata": {},
   "outputs": [
    {
     "data": {
      "text/plain": [
       "<matplotlib.axes._subplots.AxesSubplot at 0x7f8e01d9d640>"
      ]
     },
     "execution_count": 138,
     "metadata": {},
     "output_type": "execute_result"
    },
    {
     "data": {
      "image/png": "[encoded data removed]",
      "text/plain": [
       "<Figure size 864x720 with 1 Axes>"
      ]
     },
     "metadata": {
      "needs_background": "light"
     },
     "output_type": "display_data"
    }
   ],
   "source": [
    "a4_dims = (12, 10)\n",
    "fig, ax = plt.subplots(figsize=a4_dims)\n",
    "sns.barplot(x='Country', y='Count', hue='Main Sector',data=final_df)\n"
   ]
  },
  {
   "cell_type": "code",
   "execution_count": null,
   "metadata": {},
   "outputs": [],
   "source": []
  }
 ],
 "metadata": {
  "kernelspec": {
   "display_name": "Python 3",
   "language": "python",
   "name": "python3"
  },
  "language_info": {
   "codemirror_mode": {
    "name": "ipython",
    "version": 3
   },
   "file_extension": ".py",
   "mimetype": "text/x-python",
   "name": "python",
   "nbconvert_exporter": "python",
   "pygments_lexer": "ipython3",
   "version": "3.8.3"
  }
 },
 "nbformat": 4,
 "nbformat_minor": 4
}
